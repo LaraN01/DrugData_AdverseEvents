{
  "cells": [
    {
      "cell_type": "markdown",
      "metadata": {
        "id": "view-in-github",
        "colab_type": "text"
      },
      "source": [
        "<a href=\"https://colab.research.google.com/github/LaraN01/DrugData_AdverseEvents/blob/main/Notebook_2_data_preparation.ipynb\" target=\"_parent\"><img src=\"https://colab.research.google.com/assets/colab-badge.svg\" alt=\"Open In Colab\"/></a>"
      ]
    },
    {
      "cell_type": "code",
      "execution_count": null,
      "metadata": {
        "id": "xZCYWkyP_IJi",
        "outputId": "267bd8c8-ba5f-494e-f55c-378052402b91"
      },
      "outputs": [
        {
          "name": "stderr",
          "output_type": "stream",
          "text": [
            "C:\\Users\\lnonis\\AppData\\Local\\Temp\\ipykernel_25312\\2619883542.py:1: DeprecationWarning: \n",
            "Pyarrow will become a required dependency of pandas in the next major release of pandas (pandas 3.0),\n",
            "(to allow more performant data types, such as the Arrow string type, and better interoperability with other libraries)\n",
            "but was not found to be installed on your system.\n",
            "If this would cause problems for you,\n",
            "please provide us feedback at https://github.com/pandas-dev/pandas/issues/54466\n",
            "        \n",
            "  import pandas as pd\n"
          ]
        }
      ],
      "source": [
        "import pandas as pd\n",
        "import numpy as np\n",
        "import os\n",
        "import ast\n",
        "import matplotlib.pyplot as plt\n",
        "\n",
        "import functions"
      ]
    },
    {
      "cell_type": "code",
      "execution_count": null,
      "metadata": {
        "id": "xx1L6E5P_IJn"
      },
      "outputs": [],
      "source": [
        "fda_json=pd.read_csv('datasets//fdajson.csv')\n",
        "dailymed=pd.read_csv('datasets//scraped_dailymed.csv')\n",
        "moieties=pd.read_csv('datasets//substance_moieties.csv')"
      ]
    },
    {
      "cell_type": "code",
      "execution_count": null,
      "metadata": {
        "id": "xaDFky_u_IJs",
        "outputId": "27682881-8fd2-412b-b19b-b6ed605546b7"
      },
      "outputs": [
        {
          "name": "stdout",
          "output_type": "stream",
          "text": [
            "FDA json= (126937, 12)\n",
            "dailymed= (19968, 8)\n",
            "moieties shape= (134019, 16)\n"
          ]
        }
      ],
      "source": [
        "print('FDA json=', fda_json.shape)\n",
        "print('dailymed=', dailymed.shape)\n",
        "print('moieties shape=', moieties.shape)"
      ]
    },
    {
      "cell_type": "code",
      "execution_count": null,
      "metadata": {
        "id": "ikLSoH43_IJt"
      },
      "outputs": [],
      "source": [
        "dailymed_to_drop=['Inactive Ingredient Names',\n",
        "                  'NDC Codes']\n",
        "\n",
        "moieties_to_drop=['id',\n",
        "                  'type',\n",
        "                  'value',\n",
        "                  'units',\n",
        "                  'uuid.1']\n",
        "\n",
        "fda_json_to_drop=['Application number 1 FDA',\n",
        "                  'Sponsor name FDA',\n",
        "                  'Reference drug FDA',\n",
        "                  'Brand name FDA',\n",
        "                  'Marketing status FDA',\n",
        "                  'Application number 2 FDA',\n",
        "                  'Manufacturer name FDA',\n",
        "                  'rxcui FDA',\n",
        "                  'Submission orig status FDA',\n",
        "                  'Submission orig status date FDA',\n",
        "                  'Number of submissions FDA']"
      ]
    },
    {
      "cell_type": "code",
      "execution_count": null,
      "metadata": {
        "id": "tsygQyDf_IJu"
      },
      "outputs": [],
      "source": [
        "dailymed_red=dailymed.drop(dailymed_to_drop, axis=1)\n",
        "fda_json_red=fda_json.drop(fda_json_to_drop, axis=1)\n",
        "moieties_red=moieties.drop(moieties_to_drop, axis=1)"
      ]
    },
    {
      "cell_type": "code",
      "execution_count": null,
      "metadata": {
        "id": "m5CqIcul_IJv"
      },
      "outputs": [],
      "source": [
        "# fda_json_red['spl_set_id']=fda_json_red['Spl_set_id_FDA']\n",
        "# dailymed_red['spl_set_id']=dailymed_red['openfda_spl_set_id']\n",
        "# dailymed_red['unii']=dailymed_red['UNII Codes for Active Ingredients']"
      ]
    },
    {
      "cell_type": "code",
      "execution_count": null,
      "metadata": {
        "id": "zFpP7AVQ_IJw"
      },
      "outputs": [],
      "source": [
        "# fda_json_red.drop('Spl_set_id_FDA', axis=1, inplace=True)\n",
        "# dailymed_red.drop(['openfda_spl_set_id','UNII Codes for Active Ingredients'], axis=1, inplace=True)"
      ]
    },
    {
      "cell_type": "code",
      "execution_count": null,
      "metadata": {
        "id": "Q_7M7t_i_IJw"
      },
      "outputs": [],
      "source": [
        "dailymed_moieties=pd.merge(dailymed_red, moieties_red,\n",
        "                           left_on='UNII Codes for Active Ingredients',\n",
        "                           right_on='unii')"
      ]
    },
    {
      "cell_type": "code",
      "execution_count": null,
      "metadata": {
        "id": "ePHMK1Ey_IJx"
      },
      "outputs": [],
      "source": [
        "part_one=pd.read_csv('datasets//daily_moieties_df.csv')"
      ]
    },
    {
      "cell_type": "code",
      "execution_count": null,
      "metadata": {
        "id": "gh1Vdrrq_IJz",
        "outputId": "e74600df-407b-49df-8e08-25248cb3c74d"
      },
      "outputs": [
        {
          "data": {
            "text/html": [
              "<div>\n",
              "<style scoped>\n",
              "    .dataframe tbody tr th:only-of-type {\n",
              "        vertical-align: middle;\n",
              "    }\n",
              "\n",
              "    .dataframe tbody tr th {\n",
              "        vertical-align: top;\n",
              "    }\n",
              "\n",
              "    .dataframe thead th {\n",
              "        text-align: right;\n",
              "    }\n",
              "</style>\n",
              "<table border=\"1\" class=\"dataframe\">\n",
              "  <thead>\n",
              "    <tr style=\"text-align: right;\">\n",
              "      <th></th>\n",
              "      <th>Unnamed: 0</th>\n",
              "      <th>openfda_spl_set_id</th>\n",
              "      <th>UNII Codes for Inactive Ingredients</th>\n",
              "      <th>Active Ingredient Names</th>\n",
              "      <th>UNII Codes for Active Ingredients</th>\n",
              "      <th>Routes of Administration</th>\n",
              "      <th>Product Types</th>\n",
              "      <th>atropisomerism</th>\n",
              "      <th>charge</th>\n",
              "      <th>count</th>\n",
              "      <th>stereochemistry</th>\n",
              "      <th>defined_stereo</th>\n",
              "      <th>ez_centers</th>\n",
              "      <th>molecular_weight</th>\n",
              "      <th>optical_activity</th>\n",
              "      <th>stereo_centers</th>\n",
              "    </tr>\n",
              "  </thead>\n",
              "  <tbody>\n",
              "    <tr>\n",
              "      <th>0</th>\n",
              "      <td>0</td>\n",
              "      <td>9c4a7aec-daef-4961-ba77-92f4b58be780</td>\n",
              "      <td>AB6MNQ6J6L, 5SL0G7R0OK, QTT17582CB, 55X04QC32I...</td>\n",
              "      <td>ZAVEGEPANT HYDROCHLORIDE</td>\n",
              "      <td>000QCM6HAL</td>\n",
              "      <td>NASAL</td>\n",
              "      <td>HUMAN PRESCRIPTION DRUG</td>\n",
              "      <td>No</td>\n",
              "      <td>0</td>\n",
              "      <td>1</td>\n",
              "      <td>ACHIRAL</td>\n",
              "      <td>0</td>\n",
              "      <td>0</td>\n",
              "      <td>36.4609</td>\n",
              "      <td>NONE</td>\n",
              "      <td>0</td>\n",
              "    </tr>\n",
              "    <tr>\n",
              "      <th>1</th>\n",
              "      <td>1</td>\n",
              "      <td>9c4a7aec-daef-4961-ba77-92f4b58be780</td>\n",
              "      <td>AB6MNQ6J6L, 5SL0G7R0OK, QTT17582CB, 55X04QC32I...</td>\n",
              "      <td>ZAVEGEPANT HYDROCHLORIDE</td>\n",
              "      <td>000QCM6HAL</td>\n",
              "      <td>NASAL</td>\n",
              "      <td>HUMAN PRESCRIPTION DRUG</td>\n",
              "      <td>No</td>\n",
              "      <td>0</td>\n",
              "      <td>1</td>\n",
              "      <td>ABSOLUTE</td>\n",
              "      <td>1</td>\n",
              "      <td>0</td>\n",
              "      <td>638.8036</td>\n",
              "      <td>UNSPECIFIED</td>\n",
              "      <td>1</td>\n",
              "    </tr>\n",
              "    <tr>\n",
              "      <th>2</th>\n",
              "      <td>2</td>\n",
              "      <td>1191475f-e999-49f4-a805-93ad08596b1b</td>\n",
              "      <td>AB6MNQ6J6L, 5SL0G7R0OK, QTT17582CB, 55X04QC32I...</td>\n",
              "      <td>ZAVEGEPANT HYDROCHLORIDE</td>\n",
              "      <td>000QCM6HAL</td>\n",
              "      <td>NASAL</td>\n",
              "      <td>HUMAN PRESCRIPTION DRUG</td>\n",
              "      <td>No</td>\n",
              "      <td>0</td>\n",
              "      <td>1</td>\n",
              "      <td>ACHIRAL</td>\n",
              "      <td>0</td>\n",
              "      <td>0</td>\n",
              "      <td>36.4609</td>\n",
              "      <td>NONE</td>\n",
              "      <td>0</td>\n",
              "    </tr>\n",
              "    <tr>\n",
              "      <th>3</th>\n",
              "      <td>3</td>\n",
              "      <td>1191475f-e999-49f4-a805-93ad08596b1b</td>\n",
              "      <td>AB6MNQ6J6L, 5SL0G7R0OK, QTT17582CB, 55X04QC32I...</td>\n",
              "      <td>ZAVEGEPANT HYDROCHLORIDE</td>\n",
              "      <td>000QCM6HAL</td>\n",
              "      <td>NASAL</td>\n",
              "      <td>HUMAN PRESCRIPTION DRUG</td>\n",
              "      <td>No</td>\n",
              "      <td>0</td>\n",
              "      <td>1</td>\n",
              "      <td>ABSOLUTE</td>\n",
              "      <td>1</td>\n",
              "      <td>0</td>\n",
              "      <td>638.8036</td>\n",
              "      <td>UNSPECIFIED</td>\n",
              "      <td>1</td>\n",
              "    </tr>\n",
              "    <tr>\n",
              "      <th>4</th>\n",
              "      <td>4</td>\n",
              "      <td>5c4fa959-6167-4530-9840-af5540197bd6</td>\n",
              "      <td>ETJ7Z6XBU4, 39J80LT57T, 36SFW2JZ0W, EWQ57Q8I5X...</td>\n",
              "      <td>MINOCYCLINE HYDROCHLORIDE</td>\n",
              "      <td>0020414E5U</td>\n",
              "      <td>ORAL</td>\n",
              "      <td>HUMAN PRESCRIPTION DRUG</td>\n",
              "      <td>No</td>\n",
              "      <td>0</td>\n",
              "      <td>1</td>\n",
              "      <td>ACHIRAL</td>\n",
              "      <td>0</td>\n",
              "      <td>0</td>\n",
              "      <td>36.4609</td>\n",
              "      <td>NONE</td>\n",
              "      <td>0</td>\n",
              "    </tr>\n",
              "    <tr>\n",
              "      <th>...</th>\n",
              "      <td>...</td>\n",
              "      <td>...</td>\n",
              "      <td>...</td>\n",
              "      <td>...</td>\n",
              "      <td>...</td>\n",
              "      <td>...</td>\n",
              "      <td>...</td>\n",
              "      <td>...</td>\n",
              "      <td>...</td>\n",
              "      <td>...</td>\n",
              "      <td>...</td>\n",
              "      <td>...</td>\n",
              "      <td>...</td>\n",
              "      <td>...</td>\n",
              "      <td>...</td>\n",
              "      <td>...</td>\n",
              "    </tr>\n",
              "    <tr>\n",
              "      <th>25999</th>\n",
              "      <td>25999</td>\n",
              "      <td>a99fe500-f52b-483c-807c-178f1a78a02b</td>\n",
              "      <td>B22547B95K, XF417D3PSL, 451W47IQ8X, 55X04QC32I...</td>\n",
              "      <td>NALBUPHINE HYDROCHLORIDE</td>\n",
              "      <td>ZU4275277R</td>\n",
              "      <td>INTRAMUSCULAR, INTRAVENOUS, SUBCUTANEOUS</td>\n",
              "      <td>HUMAN PRESCRIPTION DRUG</td>\n",
              "      <td>No</td>\n",
              "      <td>0</td>\n",
              "      <td>1</td>\n",
              "      <td>ACHIRAL</td>\n",
              "      <td>0</td>\n",
              "      <td>0</td>\n",
              "      <td>36.4609</td>\n",
              "      <td>NONE</td>\n",
              "      <td>0</td>\n",
              "    </tr>\n",
              "    <tr>\n",
              "      <th>26000</th>\n",
              "      <td>26000</td>\n",
              "      <td>a99fe500-f52b-483c-807c-178f1a78a02b</td>\n",
              "      <td>B22547B95K, XF417D3PSL, 451W47IQ8X, 55X04QC32I...</td>\n",
              "      <td>NALBUPHINE HYDROCHLORIDE</td>\n",
              "      <td>ZU4275277R</td>\n",
              "      <td>INTRAMUSCULAR, INTRAVENOUS, SUBCUTANEOUS</td>\n",
              "      <td>HUMAN PRESCRIPTION DRUG</td>\n",
              "      <td>No</td>\n",
              "      <td>0</td>\n",
              "      <td>1</td>\n",
              "      <td>ABSOLUTE</td>\n",
              "      <td>5</td>\n",
              "      <td>0</td>\n",
              "      <td>357.4442</td>\n",
              "      <td>UNSPECIFIED</td>\n",
              "      <td>5</td>\n",
              "    </tr>\n",
              "    <tr>\n",
              "      <th>26001</th>\n",
              "      <td>26001</td>\n",
              "      <td>1b4121ee-a733-4456-a917-be2603477839</td>\n",
              "      <td>5138Q19F1X, H3R47K3TBD, 07XHK4SAV6, 2G86QN327L...</td>\n",
              "      <td>TAFAMIDIS MEGLUMINE</td>\n",
              "      <td>ZU7CF08A1A</td>\n",
              "      <td>ORAL</td>\n",
              "      <td>HUMAN PRESCRIPTION DRUG</td>\n",
              "      <td>No</td>\n",
              "      <td>0</td>\n",
              "      <td>1</td>\n",
              "      <td>ABSOLUTE</td>\n",
              "      <td>4</td>\n",
              "      <td>0</td>\n",
              "      <td>195.2139</td>\n",
              "      <td>UNSPECIFIED</td>\n",
              "      <td>4</td>\n",
              "    </tr>\n",
              "    <tr>\n",
              "      <th>26002</th>\n",
              "      <td>26002</td>\n",
              "      <td>1b4121ee-a733-4456-a917-be2603477839</td>\n",
              "      <td>5138Q19F1X, H3R47K3TBD, 07XHK4SAV6, 2G86QN327L...</td>\n",
              "      <td>TAFAMIDIS MEGLUMINE</td>\n",
              "      <td>ZU7CF08A1A</td>\n",
              "      <td>ORAL</td>\n",
              "      <td>HUMAN PRESCRIPTION DRUG</td>\n",
              "      <td>No</td>\n",
              "      <td>0</td>\n",
              "      <td>1</td>\n",
              "      <td>ACHIRAL</td>\n",
              "      <td>0</td>\n",
              "      <td>0</td>\n",
              "      <td>308.1167</td>\n",
              "      <td>NONE</td>\n",
              "      <td>0</td>\n",
              "    </tr>\n",
              "    <tr>\n",
              "      <th>26003</th>\n",
              "      <td>26003</td>\n",
              "      <td>08982e49-d2eb-4b25-b01a-1be52fd669ef</td>\n",
              "      <td>NaN</td>\n",
              "      <td>TIPRANAVIR</td>\n",
              "      <td>ZZT404XD09</td>\n",
              "      <td>ORAL</td>\n",
              "      <td>HUMAN PRESCRIPTION DRUG</td>\n",
              "      <td>No</td>\n",
              "      <td>0</td>\n",
              "      <td>1</td>\n",
              "      <td>ABSOLUTE</td>\n",
              "      <td>2</td>\n",
              "      <td>0</td>\n",
              "      <td>602.6666</td>\n",
              "      <td>UNSPECIFIED</td>\n",
              "      <td>2</td>\n",
              "    </tr>\n",
              "  </tbody>\n",
              "</table>\n",
              "<p>26004 rows × 16 columns</p>\n",
              "</div>"
            ],
            "text/plain": [
              "       Unnamed: 0                    openfda_spl_set_id  \\\n",
              "0               0  9c4a7aec-daef-4961-ba77-92f4b58be780   \n",
              "1               1  9c4a7aec-daef-4961-ba77-92f4b58be780   \n",
              "2               2  1191475f-e999-49f4-a805-93ad08596b1b   \n",
              "3               3  1191475f-e999-49f4-a805-93ad08596b1b   \n",
              "4               4  5c4fa959-6167-4530-9840-af5540197bd6   \n",
              "...           ...                                   ...   \n",
              "25999       25999  a99fe500-f52b-483c-807c-178f1a78a02b   \n",
              "26000       26000  a99fe500-f52b-483c-807c-178f1a78a02b   \n",
              "26001       26001  1b4121ee-a733-4456-a917-be2603477839   \n",
              "26002       26002  1b4121ee-a733-4456-a917-be2603477839   \n",
              "26003       26003  08982e49-d2eb-4b25-b01a-1be52fd669ef   \n",
              "\n",
              "                     UNII Codes for Inactive Ingredients  \\\n",
              "0      AB6MNQ6J6L, 5SL0G7R0OK, QTT17582CB, 55X04QC32I...   \n",
              "1      AB6MNQ6J6L, 5SL0G7R0OK, QTT17582CB, 55X04QC32I...   \n",
              "2      AB6MNQ6J6L, 5SL0G7R0OK, QTT17582CB, 55X04QC32I...   \n",
              "3      AB6MNQ6J6L, 5SL0G7R0OK, QTT17582CB, 55X04QC32I...   \n",
              "4      ETJ7Z6XBU4, 39J80LT57T, 36SFW2JZ0W, EWQ57Q8I5X...   \n",
              "...                                                  ...   \n",
              "25999  B22547B95K, XF417D3PSL, 451W47IQ8X, 55X04QC32I...   \n",
              "26000  B22547B95K, XF417D3PSL, 451W47IQ8X, 55X04QC32I...   \n",
              "26001  5138Q19F1X, H3R47K3TBD, 07XHK4SAV6, 2G86QN327L...   \n",
              "26002  5138Q19F1X, H3R47K3TBD, 07XHK4SAV6, 2G86QN327L...   \n",
              "26003                                                NaN   \n",
              "\n",
              "         Active Ingredient Names UNII Codes for Active Ingredients  \\\n",
              "0       ZAVEGEPANT HYDROCHLORIDE                        000QCM6HAL   \n",
              "1       ZAVEGEPANT HYDROCHLORIDE                        000QCM6HAL   \n",
              "2       ZAVEGEPANT HYDROCHLORIDE                        000QCM6HAL   \n",
              "3       ZAVEGEPANT HYDROCHLORIDE                        000QCM6HAL   \n",
              "4      MINOCYCLINE HYDROCHLORIDE                        0020414E5U   \n",
              "...                          ...                               ...   \n",
              "25999   NALBUPHINE HYDROCHLORIDE                        ZU4275277R   \n",
              "26000   NALBUPHINE HYDROCHLORIDE                        ZU4275277R   \n",
              "26001        TAFAMIDIS MEGLUMINE                        ZU7CF08A1A   \n",
              "26002        TAFAMIDIS MEGLUMINE                        ZU7CF08A1A   \n",
              "26003                 TIPRANAVIR                        ZZT404XD09   \n",
              "\n",
              "                       Routes of Administration            Product Types  \\\n",
              "0                                         NASAL  HUMAN PRESCRIPTION DRUG   \n",
              "1                                         NASAL  HUMAN PRESCRIPTION DRUG   \n",
              "2                                         NASAL  HUMAN PRESCRIPTION DRUG   \n",
              "3                                         NASAL  HUMAN PRESCRIPTION DRUG   \n",
              "4                                          ORAL  HUMAN PRESCRIPTION DRUG   \n",
              "...                                         ...                      ...   \n",
              "25999  INTRAMUSCULAR, INTRAVENOUS, SUBCUTANEOUS  HUMAN PRESCRIPTION DRUG   \n",
              "26000  INTRAMUSCULAR, INTRAVENOUS, SUBCUTANEOUS  HUMAN PRESCRIPTION DRUG   \n",
              "26001                                      ORAL  HUMAN PRESCRIPTION DRUG   \n",
              "26002                                      ORAL  HUMAN PRESCRIPTION DRUG   \n",
              "26003                                      ORAL  HUMAN PRESCRIPTION DRUG   \n",
              "\n",
              "      atropisomerism  charge  count stereochemistry  defined_stereo  \\\n",
              "0                 No       0      1         ACHIRAL               0   \n",
              "1                 No       0      1        ABSOLUTE               1   \n",
              "2                 No       0      1         ACHIRAL               0   \n",
              "3                 No       0      1        ABSOLUTE               1   \n",
              "4                 No       0      1         ACHIRAL               0   \n",
              "...              ...     ...    ...             ...             ...   \n",
              "25999             No       0      1         ACHIRAL               0   \n",
              "26000             No       0      1        ABSOLUTE               5   \n",
              "26001             No       0      1        ABSOLUTE               4   \n",
              "26002             No       0      1         ACHIRAL               0   \n",
              "26003             No       0      1        ABSOLUTE               2   \n",
              "\n",
              "       ez_centers  molecular_weight optical_activity  stereo_centers  \n",
              "0               0           36.4609             NONE               0  \n",
              "1               0          638.8036      UNSPECIFIED               1  \n",
              "2               0           36.4609             NONE               0  \n",
              "3               0          638.8036      UNSPECIFIED               1  \n",
              "4               0           36.4609             NONE               0  \n",
              "...           ...               ...              ...             ...  \n",
              "25999           0           36.4609             NONE               0  \n",
              "26000           0          357.4442      UNSPECIFIED               5  \n",
              "26001           0          195.2139      UNSPECIFIED               4  \n",
              "26002           0          308.1167             NONE               0  \n",
              "26003           0          602.6666      UNSPECIFIED               2  \n",
              "\n",
              "[26004 rows x 16 columns]"
            ]
          },
          "execution_count": 36,
          "metadata": {},
          "output_type": "execute_result"
        }
      ],
      "source": [
        "part_one"
      ]
    },
    {
      "cell_type": "code",
      "execution_count": null,
      "metadata": {
        "id": "CNW8F_tC_IJ0",
        "outputId": "f07513de-3de3-4b31-b869-4282b4ea3574"
      },
      "outputs": [
        {
          "data": {
            "text/plain": [
              "Index(['openfda_spl_set_id', 'UNII Codes for Inactive Ingredients',\n",
              "       'Active Ingredient Names', 'UNII Codes for Active Ingredients',\n",
              "       'Routes of Administration', 'Product Types', 'uuid', 'atropisomerism',\n",
              "       'charge', 'count', 'stereochemistry', 'defined_stereo', 'ez_centers',\n",
              "       'molecular_weight', 'optical_activity', 'stereo_centers', 'unii'],\n",
              "      dtype='object')"
            ]
          },
          "execution_count": 41,
          "metadata": {},
          "output_type": "execute_result"
        }
      ],
      "source": [
        "dailymed_moieties.columns"
      ]
    },
    {
      "cell_type": "code",
      "execution_count": null,
      "metadata": {
        "id": "CzTQY8dg_IJ2"
      },
      "outputs": [],
      "source": [
        "dailymed_moieties_array=dailymed_moieties.to_numpy()"
      ]
    },
    {
      "cell_type": "code",
      "execution_count": null,
      "metadata": {
        "id": "vJEDazk5_IJ2",
        "outputId": "95e42a45-6dbd-48a9-dddc-4b66f95d08b0"
      },
      "outputs": [
        {
          "data": {
            "text/plain": [
              "521.4304"
            ]
          },
          "execution_count": 76,
          "metadata": {},
          "output_type": "execute_result"
        }
      ],
      "source": [
        "dailymed_moieties_array[0,13]"
      ]
    },
    {
      "cell_type": "code",
      "execution_count": null,
      "metadata": {
        "id": "C6HKdqRm_IJ3"
      },
      "outputs": [],
      "source": [
        "def weight_cleaner(array, col_1, col_2):\n",
        "    for i in range(len(array) - 1):\n",
        "        if array[i][col_1] == array[i + 1][col_1]:\n",
        "            if array[i + 1][col_2] > array[i][col_2]:\n",
        "                array[i] = array[i + 1]\n",
        "    return None\n"
      ]
    },
    {
      "cell_type": "code",
      "execution_count": null,
      "metadata": {
        "id": "NmtRNAtR_IJ3"
      },
      "outputs": [],
      "source": [
        "weight_cleaner(dailymed_moieties_array,4,13)"
      ]
    },
    {
      "cell_type": "code",
      "execution_count": null,
      "metadata": {
        "id": "MNhdMZuq_IJ3"
      },
      "outputs": [],
      "source": [
        "data_test=pd.DataFrame(dailymed_moieties_array, columns=['openfda_spl_set_id', 'UNII Codes for Inactive Ingredients',\n",
        "       'Active Ingredient Names', 'UNII Codes for Active Ingredients',\n",
        "       'Routes of Administration', 'Product Types', 'uuid', 'atropisomerism',\n",
        "       'charge', 'count', 'stereochemistry', 'defined_stereo', 'ez_centers',\n",
        "       'molecular_weight', 'optical_activity', 'stereo_centers', 'unii'])"
      ]
    },
    {
      "cell_type": "code",
      "execution_count": null,
      "metadata": {
        "id": "-7PeAel4_IJ4",
        "outputId": "a595db9b-0087-4e1a-b906-4e67dc132cf5"
      },
      "outputs": [
        {
          "name": "stdout",
          "output_type": "stream",
          "text": [
            "data test shape is=  (26004, 17)\n",
            "data test cleaned shape is=  (17877, 17)\n"
          ]
        }
      ],
      "source": [
        "print('data test shape is= ',data_test.shape)\n",
        "data_new=data_test.drop_duplicates()\n",
        "print('data test cleaned shape is= ', data_new.shape)"
      ]
    },
    {
      "cell_type": "code",
      "execution_count": null,
      "metadata": {
        "id": "Ouku0WxY_IJ4"
      },
      "outputs": [],
      "source": [
        "data_new.to_csv('daily_moieties_weight_correct.csv')"
      ]
    },
    {
      "cell_type": "code",
      "execution_count": null,
      "metadata": {
        "id": "bmjmsps1_IJ5"
      },
      "outputs": [],
      "source": []
    },
    {
      "cell_type": "markdown",
      "metadata": {
        "id": "yXWvlzliXKzh"
      },
      "source": [
        "# 2. Data"
      ]
    },
    {
      "cell_type": "markdown",
      "metadata": {
        "id": "T6Q3M35pXKzj"
      },
      "source": [
        "## 2.2 Load datasets (drive)"
      ]
    },
    {
      "cell_type": "code",
      "execution_count": null,
      "metadata": {
        "id": "1BuH5VELXKzk"
      },
      "outputs": [],
      "source": [
        "# # To activate when running on Colab\n",
        "# from google.colab import drive\n",
        "# drive.mount('/content/drive')"
      ]
    },
    {
      "cell_type": "code",
      "execution_count": null,
      "metadata": {
        "id": "BMbiOsNVXKzk"
      },
      "outputs": [],
      "source": [
        "# # Adapt the paths with your Drive structure\n",
        "# adverse_events=pd.read_csv('/content/drive/MyDrive/Final_project/datasets/adverseeventsfda_Q42023.csv')\n",
        "# adverse_events_2023=pd.read_csv('/content/drive/MyDrive/Final_project/datasets/adverseeventsfda_2022_Q1Q2Q32023.csv')\n",
        "# fda_json=pd.read_csv('/content/drive/MyDrive/Final_project/datasets/06_Final//fdajson.csv')\n",
        "# dailymed=pd.read_csv('/content/drive/MyDrive/Final_project/datasets/scraped_dailymed.csv')\n",
        "# moieties=pd.read_csv('/content/drive/MyDrive/Final_project/datasets/substance_moieties.csv')"
      ]
    },
    {
      "cell_type": "markdown",
      "metadata": {
        "id": "TC7G3NOKXKzk"
      },
      "source": [
        "## 2.3 Visualize the dataframes"
      ]
    },
    {
      "cell_type": "code",
      "execution_count": null,
      "metadata": {
        "id": "DwHkb8N9XKzk",
        "outputId": "d2f67b3c-b799-478f-a9da-0881d97371c8"
      },
      "outputs": [
        {
          "name": "stdout",
          "output_type": "stream",
          "text": [
            "Combination of moieties and dailymed shape is = (17877, 17)\n"
          ]
        },
        {
          "data": {
            "text/html": [
              "<div>\n",
              "<style scoped>\n",
              "    .dataframe tbody tr th:only-of-type {\n",
              "        vertical-align: middle;\n",
              "    }\n",
              "\n",
              "    .dataframe tbody tr th {\n",
              "        vertical-align: top;\n",
              "    }\n",
              "\n",
              "    .dataframe thead th {\n",
              "        text-align: right;\n",
              "    }\n",
              "</style>\n",
              "<table border=\"1\" class=\"dataframe\">\n",
              "  <thead>\n",
              "    <tr style=\"text-align: right;\">\n",
              "      <th></th>\n",
              "      <th>openfda_spl_set_id</th>\n",
              "      <th>UNII Codes for Inactive Ingredients</th>\n",
              "      <th>Active Ingredient Names</th>\n",
              "      <th>UNII Codes for Active Ingredients</th>\n",
              "      <th>Routes of Administration</th>\n",
              "      <th>Product Types</th>\n",
              "      <th>uuid</th>\n",
              "      <th>atropisomerism</th>\n",
              "      <th>charge</th>\n",
              "      <th>count</th>\n",
              "      <th>stereochemistry</th>\n",
              "      <th>defined_stereo</th>\n",
              "      <th>ez_centers</th>\n",
              "      <th>molecular_weight</th>\n",
              "      <th>optical_activity</th>\n",
              "      <th>stereo_centers</th>\n",
              "      <th>unii</th>\n",
              "    </tr>\n",
              "  </thead>\n",
              "  <tbody>\n",
              "    <tr>\n",
              "      <th>0</th>\n",
              "      <td>9253f6a9-2cf7-412d-b7a5-d9292d7b97fd</td>\n",
              "      <td>KEH0A3F75J, E4GA8884NN, F76354LMGR, 2KR89I4H1Y...</td>\n",
              "      <td>MOMETASONE FUROATE</td>\n",
              "      <td>04201GDN4R</td>\n",
              "      <td>TOPICAL</td>\n",
              "      <td>HUMAN PRESCRIPTION DRUG</td>\n",
              "      <td>fc3311a1-cc99-4101-9922-8ac1dcc952e5</td>\n",
              "      <td>No</td>\n",
              "      <td>0</td>\n",
              "      <td>1</td>\n",
              "      <td>ABSOLUTE</td>\n",
              "      <td>8</td>\n",
              "      <td>0</td>\n",
              "      <td>521.4304</td>\n",
              "      <td>UNSPECIFIED</td>\n",
              "      <td>8</td>\n",
              "      <td>04201GDN4R</td>\n",
              "    </tr>\n",
              "    <tr>\n",
              "      <th>1</th>\n",
              "      <td>7a6a9590-9983-46ff-ae5c-fe95f4e16cb8</td>\n",
              "      <td>NaN</td>\n",
              "      <td>SILVER SULFADIAZINE</td>\n",
              "      <td>W46JY43EJR</td>\n",
              "      <td>TOPICAL</td>\n",
              "      <td>HUMAN PRESCRIPTION DRUG</td>\n",
              "      <td>b26421ef-8bd9-4c7c-bfd5-572f813151b4</td>\n",
              "      <td>No</td>\n",
              "      <td>0</td>\n",
              "      <td>1</td>\n",
              "      <td>ACHIRAL</td>\n",
              "      <td>0</td>\n",
              "      <td>0</td>\n",
              "      <td>250.2785</td>\n",
              "      <td>NONE</td>\n",
              "      <td>0</td>\n",
              "      <td>W46JY43EJR</td>\n",
              "    </tr>\n",
              "    <tr>\n",
              "      <th>3</th>\n",
              "      <td>c437213a-1cd4-445e-a39f-bbcacb9f746f</td>\n",
              "      <td>NaN</td>\n",
              "      <td>SILVER SULFADIAZINE</td>\n",
              "      <td>W46JY43EJR</td>\n",
              "      <td>TOPICAL</td>\n",
              "      <td>HUMAN PRESCRIPTION DRUG</td>\n",
              "      <td>b26421ef-8bd9-4c7c-bfd5-572f813151b4</td>\n",
              "      <td>No</td>\n",
              "      <td>0</td>\n",
              "      <td>1</td>\n",
              "      <td>ACHIRAL</td>\n",
              "      <td>0</td>\n",
              "      <td>0</td>\n",
              "      <td>250.2785</td>\n",
              "      <td>NONE</td>\n",
              "      <td>0</td>\n",
              "      <td>W46JY43EJR</td>\n",
              "    </tr>\n",
              "    <tr>\n",
              "      <th>5</th>\n",
              "      <td>32e6366a-8bb4-4b67-b4a3-e372c7696fa7</td>\n",
              "      <td>3SY5LH9PMK, 7Z8S9VYZ4B, O8232NY3SJ, 35SW5USQ3G...</td>\n",
              "      <td>NORETHINDRONE</td>\n",
              "      <td>T18F433X4S</td>\n",
              "      <td>ORAL</td>\n",
              "      <td>HUMAN PRESCRIPTION DRUG</td>\n",
              "      <td>16033227-ca1a-45b5-85bd-53a51eeb2247</td>\n",
              "      <td>No</td>\n",
              "      <td>0</td>\n",
              "      <td>1</td>\n",
              "      <td>ABSOLUTE</td>\n",
              "      <td>6</td>\n",
              "      <td>0</td>\n",
              "      <td>298.4200</td>\n",
              "      <td>UNSPECIFIED</td>\n",
              "      <td>6</td>\n",
              "      <td>T18F433X4S</td>\n",
              "    </tr>\n",
              "    <tr>\n",
              "      <th>6</th>\n",
              "      <td>df29577b-c2f0-bea8-b048-7719972707aa</td>\n",
              "      <td>3SY5LH9PMK, 7Z8S9VYZ4B, O8232NY3SJ, 35SW5USQ3G...</td>\n",
              "      <td>NORETHINDRONE</td>\n",
              "      <td>T18F433X4S</td>\n",
              "      <td>ORAL</td>\n",
              "      <td>HUMAN PRESCRIPTION DRUG</td>\n",
              "      <td>16033227-ca1a-45b5-85bd-53a51eeb2247</td>\n",
              "      <td>No</td>\n",
              "      <td>0</td>\n",
              "      <td>1</td>\n",
              "      <td>ABSOLUTE</td>\n",
              "      <td>6</td>\n",
              "      <td>0</td>\n",
              "      <td>298.4200</td>\n",
              "      <td>UNSPECIFIED</td>\n",
              "      <td>6</td>\n",
              "      <td>T18F433X4S</td>\n",
              "    </tr>\n",
              "  </tbody>\n",
              "</table>\n",
              "</div>"
            ],
            "text/plain": [
              "                     openfda_spl_set_id  \\\n",
              "0  9253f6a9-2cf7-412d-b7a5-d9292d7b97fd   \n",
              "1  7a6a9590-9983-46ff-ae5c-fe95f4e16cb8   \n",
              "3  c437213a-1cd4-445e-a39f-bbcacb9f746f   \n",
              "5  32e6366a-8bb4-4b67-b4a3-e372c7696fa7   \n",
              "6  df29577b-c2f0-bea8-b048-7719972707aa   \n",
              "\n",
              "                 UNII Codes for Inactive Ingredients Active Ingredient Names  \\\n",
              "0  KEH0A3F75J, E4GA8884NN, F76354LMGR, 2KR89I4H1Y...      MOMETASONE FUROATE   \n",
              "1                                                NaN     SILVER SULFADIAZINE   \n",
              "3                                                NaN     SILVER SULFADIAZINE   \n",
              "5  3SY5LH9PMK, 7Z8S9VYZ4B, O8232NY3SJ, 35SW5USQ3G...           NORETHINDRONE   \n",
              "6  3SY5LH9PMK, 7Z8S9VYZ4B, O8232NY3SJ, 35SW5USQ3G...           NORETHINDRONE   \n",
              "\n",
              "  UNII Codes for Active Ingredients Routes of Administration  \\\n",
              "0                        04201GDN4R                  TOPICAL   \n",
              "1                        W46JY43EJR                  TOPICAL   \n",
              "3                        W46JY43EJR                  TOPICAL   \n",
              "5                        T18F433X4S                     ORAL   \n",
              "6                        T18F433X4S                     ORAL   \n",
              "\n",
              "             Product Types                                  uuid  \\\n",
              "0  HUMAN PRESCRIPTION DRUG  fc3311a1-cc99-4101-9922-8ac1dcc952e5   \n",
              "1  HUMAN PRESCRIPTION DRUG  b26421ef-8bd9-4c7c-bfd5-572f813151b4   \n",
              "3  HUMAN PRESCRIPTION DRUG  b26421ef-8bd9-4c7c-bfd5-572f813151b4   \n",
              "5  HUMAN PRESCRIPTION DRUG  16033227-ca1a-45b5-85bd-53a51eeb2247   \n",
              "6  HUMAN PRESCRIPTION DRUG  16033227-ca1a-45b5-85bd-53a51eeb2247   \n",
              "\n",
              "  atropisomerism  charge  count stereochemistry  defined_stereo  ez_centers  \\\n",
              "0             No       0      1        ABSOLUTE               8           0   \n",
              "1             No       0      1         ACHIRAL               0           0   \n",
              "3             No       0      1         ACHIRAL               0           0   \n",
              "5             No       0      1        ABSOLUTE               6           0   \n",
              "6             No       0      1        ABSOLUTE               6           0   \n",
              "\n",
              "   molecular_weight optical_activity  stereo_centers        unii  \n",
              "0          521.4304      UNSPECIFIED               8  04201GDN4R  \n",
              "1          250.2785             NONE               0  W46JY43EJR  \n",
              "3          250.2785             NONE               0  W46JY43EJR  \n",
              "5          298.4200      UNSPECIFIED               6  T18F433X4S  \n",
              "6          298.4200      UNSPECIFIED               6  T18F433X4S  "
            ]
          },
          "execution_count": 6,
          "metadata": {},
          "output_type": "execute_result"
        }
      ],
      "source": [
        "print('Combination of moieties and dailymed shape is =', merged_part_1.shape)\n",
        "merged_part_1.head(5)"
      ]
    },
    {
      "cell_type": "code",
      "execution_count": null,
      "metadata": {
        "id": "Vhzc11z8XKzl",
        "outputId": "01b0cded-ca41-49ac-d4f0-565a4f35957a"
      },
      "outputs": [
        {
          "name": "stdout",
          "output_type": "stream",
          "text": [
            "Adverse event dataset shape is = (415378, 12)\n"
          ]
        },
        {
          "data": {
            "text/html": [
              "<div>\n",
              "<style scoped>\n",
              "    .dataframe tbody tr th:only-of-type {\n",
              "        vertical-align: middle;\n",
              "    }\n",
              "\n",
              "    .dataframe tbody tr th {\n",
              "        vertical-align: top;\n",
              "    }\n",
              "\n",
              "    .dataframe thead th {\n",
              "        text-align: right;\n",
              "    }\n",
              "</style>\n",
              "<table border=\"1\" class=\"dataframe\">\n",
              "  <thead>\n",
              "    <tr style=\"text-align: right;\">\n",
              "      <th></th>\n",
              "      <th>safetyreportid</th>\n",
              "      <th>serious</th>\n",
              "      <th>seriousnessdeath</th>\n",
              "      <th>seriousnesslifethreatening</th>\n",
              "      <th>seriousnesshospitalization</th>\n",
              "      <th>seriousnessdisabling</th>\n",
              "      <th>seriousnesscongenitalanomali</th>\n",
              "      <th>seriousnessother</th>\n",
              "      <th>reactionmeddrapt</th>\n",
              "      <th>reactionoutcome</th>\n",
              "      <th>spl_set_id</th>\n",
              "      <th>patientsex</th>\n",
              "    </tr>\n",
              "  </thead>\n",
              "  <tbody>\n",
              "    <tr>\n",
              "      <th>0</th>\n",
              "      <td>22604587</td>\n",
              "      <td>2</td>\n",
              "      <td>2.0</td>\n",
              "      <td>2.0</td>\n",
              "      <td>2.0</td>\n",
              "      <td>2.0</td>\n",
              "      <td>2.0</td>\n",
              "      <td>2.0</td>\n",
              "      <td>['Nasal polyps']</td>\n",
              "      <td>['3']</td>\n",
              "      <td>['595f437d-2729-40bb-9c62-c8ece1f82780', '595f...</td>\n",
              "      <td>1.0</td>\n",
              "    </tr>\n",
              "    <tr>\n",
              "      <th>1</th>\n",
              "      <td>23280317</td>\n",
              "      <td>1</td>\n",
              "      <td>1.0</td>\n",
              "      <td>NaN</td>\n",
              "      <td>NaN</td>\n",
              "      <td>NaN</td>\n",
              "      <td>NaN</td>\n",
              "      <td>NaN</td>\n",
              "      <td>['Rhabdomyolysis', 'Acute kidney injury', 'Dru...</td>\n",
              "      <td>['5', '5', '5', '5']</td>\n",
              "      <td>['326d8586-042f-44f8-8530-e46b7b777bc3', '9daf...</td>\n",
              "      <td>2.0</td>\n",
              "    </tr>\n",
              "    <tr>\n",
              "      <th>2</th>\n",
              "      <td>23282668</td>\n",
              "      <td>1</td>\n",
              "      <td>NaN</td>\n",
              "      <td>NaN</td>\n",
              "      <td>NaN</td>\n",
              "      <td>NaN</td>\n",
              "      <td>NaN</td>\n",
              "      <td>1.0</td>\n",
              "      <td>['Myocardial injury']</td>\n",
              "      <td>['2']</td>\n",
              "      <td>['5fb3a2d5-b9ec-4044-abb9-3e0d848a448e', '6986...</td>\n",
              "      <td>1.0</td>\n",
              "    </tr>\n",
              "  </tbody>\n",
              "</table>\n",
              "</div>"
            ],
            "text/plain": [
              "   safetyreportid  serious  seriousnessdeath  seriousnesslifethreatening  \\\n",
              "0        22604587        2               2.0                         2.0   \n",
              "1        23280317        1               1.0                         NaN   \n",
              "2        23282668        1               NaN                         NaN   \n",
              "\n",
              "   seriousnesshospitalization  seriousnessdisabling  \\\n",
              "0                         2.0                   2.0   \n",
              "1                         NaN                   NaN   \n",
              "2                         NaN                   NaN   \n",
              "\n",
              "   seriousnesscongenitalanomali  seriousnessother  \\\n",
              "0                           2.0               2.0   \n",
              "1                           NaN               NaN   \n",
              "2                           NaN               1.0   \n",
              "\n",
              "                                    reactionmeddrapt       reactionoutcome  \\\n",
              "0                                   ['Nasal polyps']                 ['3']   \n",
              "1  ['Rhabdomyolysis', 'Acute kidney injury', 'Dru...  ['5', '5', '5', '5']   \n",
              "2                              ['Myocardial injury']                 ['2']   \n",
              "\n",
              "                                          spl_set_id  patientsex  \n",
              "0  ['595f437d-2729-40bb-9c62-c8ece1f82780', '595f...         1.0  \n",
              "1  ['326d8586-042f-44f8-8530-e46b7b777bc3', '9daf...         2.0  \n",
              "2  ['5fb3a2d5-b9ec-4044-abb9-3e0d848a448e', '6986...         1.0  "
            ]
          },
          "execution_count": 7,
          "metadata": {},
          "output_type": "execute_result"
        }
      ],
      "source": [
        "print('Adverse event dataset shape is =', adverse_events.shape)\n",
        "adverse_events.head(3)\n"
      ]
    },
    {
      "cell_type": "markdown",
      "metadata": {
        "id": "K_PS2ocxXKzm"
      },
      "source": [
        "# 3. Preparation"
      ]
    },
    {
      "cell_type": "markdown",
      "metadata": {
        "id": "qHxCidadXKzm"
      },
      "source": [
        "Due to the shape of the dataframes, and in particolar of the adverse event one, the dataframes will be converted in np.arrays and the subsequent preparation steps will be performed on the arrays.\n",
        "\n",
        "Adverse events dataset has a very long string, combination of many spl_set_id in the corresponding field. As spl_set_id is the submission code to FDA, the string will be converted in list and the first item only will be kept (first submission). Another option could be to split in single entries and keep all spl_set_id. The appproach will be tested in the smallest adverse_events dataset in order to verify if more entries will be maintained after merging with dailymed_moieties dataset."
      ]
    },
    {
      "cell_type": "code",
      "execution_count": null,
      "metadata": {
        "id": "X3ezPbpE_K9p",
        "outputId": "51526326-b21b-4401-8413-33cafc10fd71"
      },
      "outputs": [
        {
          "data": {
            "text/plain": [
              "Index(['safetyreportid', 'serious', 'seriousnessdeath',\n",
              "       'seriousnesslifethreatening', 'seriousnesshospitalization',\n",
              "       'seriousnessdisabling', 'seriousnesscongenitalanomali',\n",
              "       'seriousnessother', 'reactionmeddrapt', 'reactionoutcome', 'spl_set_id',\n",
              "       'patientsex'],\n",
              "      dtype='object')"
            ]
          },
          "execution_count": 8,
          "metadata": {},
          "output_type": "execute_result"
        }
      ],
      "source": [
        "# List of the columns to be used when we'll create again the dataframe\n",
        "\n",
        "adverse_events.columns"
      ]
    },
    {
      "cell_type": "code",
      "execution_count": null,
      "metadata": {
        "id": "LHpX_IO9_K9p",
        "outputId": "9f3a0247-b209-4c50-a74f-1f247b1c0c0b"
      },
      "outputs": [
        {
          "data": {
            "text/plain": [
              "\"['326d8586-042f-44f8-8530-e46b7b777bc3', '9daf3136-74b6-4410-8256-cbc9dd700f61', '222a461b-3f83-4e03-a7a1-9f695a5e5232', 'a7b0a70b-a117-48cf-a6bc-260be1dac1e7', '8f87e3e1-4c9c-497a-af20-8ab52cfeef60', '9dea4789-bf1c-1577-e053-2a95a90a5381', 'c3832113-f517-4b4e-bf9c-31fce1a638e1', '1076119b-c68e-4c1e-b6d7-58cd14568e75', 'de5def4a-f77f-4ea6-a497-24f041c1f123', 'a9412747-c7f9-4242-91ed-3695f372f6c9', '28a3ece3-78fb-4121-86a7-adc4a9d9540f', 'e799c808-7c0f-482d-99d2-35fc34dbb2ea', 'a32cf699-e63e-4bd3-a5af-9e1ba447e02e', 'e0b309a5-bebe-c6da-2847-bda21aa488b1', '32e79416-5de4-4f06-9fff-f8c36a1ad5db', '98a4ed66-2813-49de-8cda-94c41cc3ca9f', '5019361d-e6af-4c3d-a246-a43358ae914c', '7037e539-118a-4b8f-9d87-e57bfc142649', 'd985c2a4-c0e8-4d87-9fcd-2b1aeda0198e', '2ba1924b-9967-4adb-9061-d023ef44ab3e', '34221c17-0d8c-4b56-8af3-c74efab4599e', 'daf41866-6f2b-4483-b575-456becd6e85f', '58293d62-089d-49ab-b691-dfd705ac9a9c', 'fd853928-05e1-4db9-bb1d-6e6e6eaec7ed', '92b31fc4-0f02-4857-b11f-49b9f942ee84', 'd706c56f-0123-4a5a-8c85-240cbe6ef7a5', '93ea9e7f-6914-4df2-8ca0-27c453806623', '28db9a27-4d23-48ef-b1f3-08b993948c11', '6600e2b3-65df-4fc3-8081-d574537d27e3']\""
            ]
          },
          "execution_count": 9,
          "metadata": {},
          "output_type": "execute_result"
        }
      ],
      "source": [
        "adverse_events.loc[1,'spl_set_id']"
      ]
    },
    {
      "cell_type": "code",
      "execution_count": null,
      "metadata": {
        "id": "YqTyJ25o_K9p"
      },
      "outputs": [],
      "source": [
        "adv_ev_array=adverse_events.to_numpy()"
      ]
    },
    {
      "cell_type": "code",
      "execution_count": null,
      "metadata": {
        "id": "q7KD0k7B_K9q",
        "outputId": "986049f7-4c97-4e1b-f72e-60014042fab3"
      },
      "outputs": [
        {
          "name": "stdout",
          "output_type": "stream",
          "text": [
            "0\n",
            "1000\n",
            "2000\n",
            "3000\n",
            "4000\n",
            "5000\n",
            "6000\n",
            "7000\n",
            "8000\n",
            "9000\n",
            "10000\n",
            "11000\n",
            "12000\n",
            "13000\n",
            "14000\n",
            "15000\n",
            "16000\n",
            "17000\n",
            "18000\n",
            "19000\n",
            "20000\n",
            "21000\n",
            "22000\n",
            "23000\n",
            "24000\n",
            "25000\n",
            "26000\n",
            "27000\n",
            "28000\n",
            "29000\n",
            "30000\n",
            "31000\n",
            "32000\n",
            "33000\n",
            "34000\n",
            "35000\n",
            "36000\n",
            "37000\n",
            "38000\n",
            "39000\n",
            "40000\n",
            "41000\n",
            "42000\n",
            "43000\n",
            "44000\n",
            "45000\n",
            "46000\n",
            "47000\n",
            "48000\n",
            "49000\n",
            "50000\n",
            "51000\n",
            "52000\n",
            "53000\n",
            "54000\n",
            "55000\n",
            "56000\n",
            "57000\n",
            "58000\n",
            "59000\n",
            "60000\n",
            "61000\n",
            "62000\n",
            "63000\n",
            "64000\n",
            "65000\n",
            "66000\n",
            "67000\n",
            "68000\n",
            "69000\n",
            "70000\n",
            "71000\n",
            "72000\n",
            "73000\n",
            "74000\n",
            "75000\n",
            "76000\n",
            "77000\n",
            "78000\n",
            "79000\n",
            "80000\n",
            "81000\n",
            "82000\n",
            "83000\n",
            "84000\n",
            "85000\n",
            "86000\n",
            "87000\n",
            "88000\n",
            "89000\n",
            "90000\n",
            "91000\n",
            "92000\n",
            "93000\n",
            "94000\n",
            "95000\n",
            "96000\n",
            "97000\n",
            "98000\n",
            "99000\n",
            "100000\n",
            "101000\n",
            "102000\n",
            "103000\n",
            "104000\n",
            "105000\n",
            "106000\n",
            "107000\n",
            "108000\n",
            "109000\n",
            "110000\n",
            "111000\n",
            "112000\n",
            "113000\n",
            "114000\n",
            "115000\n",
            "116000\n",
            "117000\n",
            "118000\n",
            "119000\n",
            "120000\n",
            "121000\n",
            "122000\n",
            "123000\n",
            "124000\n",
            "125000\n",
            "126000\n",
            "127000\n",
            "128000\n",
            "129000\n",
            "130000\n",
            "131000\n",
            "132000\n",
            "133000\n",
            "134000\n",
            "135000\n",
            "136000\n",
            "137000\n",
            "138000\n",
            "139000\n",
            "140000\n",
            "141000\n",
            "142000\n",
            "143000\n",
            "144000\n",
            "145000\n",
            "146000\n",
            "147000\n",
            "148000\n",
            "149000\n",
            "150000\n",
            "151000\n",
            "152000\n",
            "153000\n",
            "154000\n",
            "155000\n",
            "156000\n",
            "157000\n",
            "158000\n",
            "159000\n",
            "160000\n",
            "161000\n",
            "162000\n",
            "163000\n",
            "164000\n",
            "165000\n",
            "166000\n",
            "167000\n",
            "168000\n",
            "169000\n",
            "170000\n",
            "171000\n",
            "172000\n",
            "173000\n",
            "174000\n",
            "175000\n",
            "176000\n",
            "177000\n",
            "178000\n",
            "179000\n",
            "180000\n",
            "181000\n",
            "182000\n",
            "183000\n",
            "184000\n",
            "185000\n",
            "186000\n",
            "187000\n",
            "188000\n",
            "189000\n",
            "190000\n",
            "191000\n",
            "192000\n",
            "193000\n",
            "194000\n",
            "195000\n",
            "196000\n",
            "197000\n",
            "198000\n",
            "199000\n",
            "200000\n",
            "201000\n",
            "202000\n",
            "203000\n",
            "204000\n",
            "205000\n",
            "206000\n",
            "207000\n",
            "208000\n",
            "209000\n",
            "210000\n",
            "211000\n",
            "212000\n",
            "213000\n",
            "214000\n",
            "215000\n",
            "216000\n",
            "217000\n",
            "218000\n",
            "219000\n",
            "220000\n",
            "221000\n",
            "222000\n",
            "223000\n",
            "224000\n",
            "225000\n",
            "226000\n",
            "227000\n",
            "228000\n",
            "229000\n",
            "230000\n",
            "231000\n",
            "232000\n",
            "233000\n",
            "234000\n",
            "235000\n",
            "236000\n",
            "237000\n",
            "238000\n",
            "239000\n",
            "240000\n",
            "241000\n",
            "242000\n",
            "243000\n",
            "244000\n",
            "245000\n",
            "246000\n",
            "247000\n",
            "248000\n",
            "249000\n",
            "250000\n",
            "251000\n",
            "252000\n",
            "253000\n",
            "254000\n",
            "255000\n",
            "256000\n",
            "257000\n",
            "258000\n",
            "259000\n",
            "260000\n",
            "261000\n",
            "262000\n",
            "263000\n",
            "264000\n",
            "265000\n",
            "266000\n",
            "267000\n",
            "268000\n",
            "269000\n",
            "270000\n",
            "271000\n",
            "272000\n",
            "273000\n",
            "274000\n",
            "275000\n",
            "276000\n",
            "277000\n",
            "278000\n",
            "279000\n",
            "280000\n",
            "281000\n",
            "282000\n",
            "283000\n",
            "284000\n",
            "285000\n",
            "286000\n",
            "287000\n",
            "288000\n",
            "289000\n",
            "290000\n",
            "291000\n",
            "292000\n",
            "293000\n",
            "294000\n",
            "295000\n",
            "296000\n",
            "297000\n",
            "298000\n",
            "299000\n",
            "300000\n",
            "301000\n",
            "302000\n",
            "303000\n",
            "304000\n",
            "305000\n",
            "306000\n",
            "307000\n",
            "308000\n",
            "309000\n",
            "310000\n",
            "311000\n",
            "312000\n",
            "313000\n",
            "314000\n",
            "315000\n",
            "316000\n",
            "317000\n",
            "318000\n",
            "319000\n",
            "320000\n",
            "321000\n",
            "322000\n",
            "323000\n",
            "324000\n",
            "325000\n",
            "326000\n",
            "327000\n",
            "328000\n",
            "329000\n",
            "330000\n",
            "331000\n",
            "332000\n",
            "333000\n",
            "334000\n",
            "335000\n",
            "336000\n",
            "337000\n",
            "338000\n",
            "339000\n",
            "340000\n",
            "341000\n",
            "342000\n",
            "343000\n",
            "344000\n",
            "345000\n",
            "346000\n",
            "347000\n",
            "348000\n",
            "349000\n",
            "350000\n",
            "351000\n",
            "352000\n",
            "353000\n",
            "354000\n",
            "355000\n",
            "356000\n",
            "357000\n",
            "358000\n",
            "359000\n",
            "360000\n",
            "361000\n",
            "362000\n",
            "363000\n",
            "364000\n",
            "365000\n",
            "366000\n",
            "367000\n",
            "368000\n",
            "369000\n",
            "370000\n",
            "371000\n",
            "372000\n",
            "373000\n",
            "374000\n",
            "375000\n",
            "376000\n",
            "377000\n",
            "378000\n",
            "379000\n",
            "380000\n",
            "381000\n",
            "382000\n",
            "383000\n",
            "384000\n",
            "385000\n",
            "386000\n",
            "387000\n",
            "388000\n",
            "389000\n",
            "390000\n",
            "391000\n",
            "392000\n",
            "393000\n",
            "394000\n",
            "395000\n",
            "396000\n",
            "397000\n",
            "398000\n",
            "399000\n",
            "400000\n",
            "401000\n",
            "402000\n",
            "403000\n",
            "404000\n",
            "405000\n",
            "406000\n",
            "407000\n",
            "408000\n",
            "409000\n",
            "410000\n",
            "411000\n",
            "412000\n",
            "413000\n",
            "414000\n",
            "415000\n"
          ]
        }
      ],
      "source": [
        "new_array=functions.split_list_get_first(adv_ev_array,10)"
      ]
    },
    {
      "cell_type": "code",
      "execution_count": null,
      "metadata": {
        "id": "rA1R5C_E_K9q"
      },
      "outputs": [],
      "source": [
        "adverse_events=pd.DataFrame(new_array, columns=['safetyreportid', 'serious', 'seriousnessdeath',\n",
        "       'seriousnesslifethreatening', 'seriousnesshospitalization',\n",
        "       'seriousnessdisabling', 'seriousnesscongenitalanomali',\n",
        "       'seriousnessother', 'reactionmeddrapt', 'reactionoutcome', 'spl_set_id',\n",
        "       'patientsex'])"
      ]
    },
    {
      "cell_type": "code",
      "execution_count": null,
      "metadata": {
        "id": "7kkVkrt2_K9q",
        "outputId": "cef13940-f62c-4b76-a3ec-548bbb43833e"
      },
      "outputs": [
        {
          "data": {
            "text/plain": [
              "(415378, 12)"
            ]
          },
          "execution_count": 13,
          "metadata": {},
          "output_type": "execute_result"
        }
      ],
      "source": [
        "adverse_events.shape"
      ]
    },
    {
      "cell_type": "code",
      "execution_count": null,
      "metadata": {
        "id": "aOOen3XJ_K9r",
        "outputId": "2dad56f0-8ff2-4442-c4fd-e8557bc13e5c"
      },
      "outputs": [
        {
          "data": {
            "text/html": [
              "<div>\n",
              "<style scoped>\n",
              "    .dataframe tbody tr th:only-of-type {\n",
              "        vertical-align: middle;\n",
              "    }\n",
              "\n",
              "    .dataframe tbody tr th {\n",
              "        vertical-align: top;\n",
              "    }\n",
              "\n",
              "    .dataframe thead th {\n",
              "        text-align: right;\n",
              "    }\n",
              "</style>\n",
              "<table border=\"1\" class=\"dataframe\">\n",
              "  <thead>\n",
              "    <tr style=\"text-align: right;\">\n",
              "      <th></th>\n",
              "      <th>safetyreportid</th>\n",
              "      <th>serious</th>\n",
              "      <th>seriousnessdeath</th>\n",
              "      <th>seriousnesslifethreatening</th>\n",
              "      <th>seriousnesshospitalization</th>\n",
              "      <th>seriousnessdisabling</th>\n",
              "      <th>seriousnesscongenitalanomali</th>\n",
              "      <th>seriousnessother</th>\n",
              "      <th>reactionmeddrapt</th>\n",
              "      <th>reactionoutcome</th>\n",
              "      <th>spl_set_id</th>\n",
              "      <th>patientsex</th>\n",
              "    </tr>\n",
              "  </thead>\n",
              "  <tbody>\n",
              "    <tr>\n",
              "      <th>0</th>\n",
              "      <td>22604587</td>\n",
              "      <td>2</td>\n",
              "      <td>2.0</td>\n",
              "      <td>2.0</td>\n",
              "      <td>2.0</td>\n",
              "      <td>2.0</td>\n",
              "      <td>2.0</td>\n",
              "      <td>2.0</td>\n",
              "      <td>['Nasal polyps']</td>\n",
              "      <td>['3']</td>\n",
              "      <td>595f437d-2729-40bb-9c62-c8ece1f82780</td>\n",
              "      <td>1.0</td>\n",
              "    </tr>\n",
              "    <tr>\n",
              "      <th>1</th>\n",
              "      <td>23280317</td>\n",
              "      <td>1</td>\n",
              "      <td>1.0</td>\n",
              "      <td>NaN</td>\n",
              "      <td>NaN</td>\n",
              "      <td>NaN</td>\n",
              "      <td>NaN</td>\n",
              "      <td>NaN</td>\n",
              "      <td>['Rhabdomyolysis', 'Acute kidney injury', 'Dru...</td>\n",
              "      <td>['5', '5', '5', '5']</td>\n",
              "      <td>326d8586-042f-44f8-8530-e46b7b777bc3</td>\n",
              "      <td>2.0</td>\n",
              "    </tr>\n",
              "    <tr>\n",
              "      <th>2</th>\n",
              "      <td>23282668</td>\n",
              "      <td>1</td>\n",
              "      <td>NaN</td>\n",
              "      <td>NaN</td>\n",
              "      <td>NaN</td>\n",
              "      <td>NaN</td>\n",
              "      <td>NaN</td>\n",
              "      <td>1.0</td>\n",
              "      <td>['Myocardial injury']</td>\n",
              "      <td>['2']</td>\n",
              "      <td>5fb3a2d5-b9ec-4044-abb9-3e0d848a448e</td>\n",
              "      <td>1.0</td>\n",
              "    </tr>\n",
              "  </tbody>\n",
              "</table>\n",
              "</div>"
            ],
            "text/plain": [
              "  safetyreportid serious seriousnessdeath seriousnesslifethreatening  \\\n",
              "0       22604587       2              2.0                        2.0   \n",
              "1       23280317       1              1.0                        NaN   \n",
              "2       23282668       1              NaN                        NaN   \n",
              "\n",
              "  seriousnesshospitalization seriousnessdisabling  \\\n",
              "0                        2.0                  2.0   \n",
              "1                        NaN                  NaN   \n",
              "2                        NaN                  NaN   \n",
              "\n",
              "  seriousnesscongenitalanomali seriousnessother  \\\n",
              "0                          2.0              2.0   \n",
              "1                          NaN              NaN   \n",
              "2                          NaN              1.0   \n",
              "\n",
              "                                    reactionmeddrapt       reactionoutcome  \\\n",
              "0                                   ['Nasal polyps']                 ['3']   \n",
              "1  ['Rhabdomyolysis', 'Acute kidney injury', 'Dru...  ['5', '5', '5', '5']   \n",
              "2                              ['Myocardial injury']                 ['2']   \n",
              "\n",
              "                             spl_set_id patientsex  \n",
              "0  595f437d-2729-40bb-9c62-c8ece1f82780        1.0  \n",
              "1  326d8586-042f-44f8-8530-e46b7b777bc3        2.0  \n",
              "2  5fb3a2d5-b9ec-4044-abb9-3e0d848a448e        1.0  "
            ]
          },
          "execution_count": 14,
          "metadata": {},
          "output_type": "execute_result"
        }
      ],
      "source": [
        "adverse_events.head(3)"
      ]
    },
    {
      "cell_type": "markdown",
      "metadata": {
        "id": "VyhzyO3NXKzm"
      },
      "source": [
        "## 3.1 Merge in a partial  dataset"
      ]
    },
    {
      "cell_type": "code",
      "execution_count": null,
      "metadata": {
        "id": "l9MVLHaWXKzm",
        "outputId": "2d099c08-8bf1-46f7-d154-d5db7b7a9952"
      },
      "outputs": [
        {
          "data": {
            "text/plain": [
              "'326d8586-042f-44f8-8530-e46b7b777bc3'"
            ]
          },
          "execution_count": 15,
          "metadata": {},
          "output_type": "execute_result"
        }
      ],
      "source": [
        "# Format check in adverse event\n",
        "adverse_events.loc[1,'spl_set_id']"
      ]
    },
    {
      "cell_type": "code",
      "execution_count": null,
      "metadata": {
        "id": "D23REVNqXKzm",
        "outputId": "fecb3e13-0408-4b52-ac55-3c17a56473ca"
      },
      "outputs": [
        {
          "data": {
            "text/plain": [
              "'0a1f2f64-3b0b-5e5c-e063-6294a90a7185'"
            ]
          },
          "execution_count": 16,
          "metadata": {},
          "output_type": "execute_result"
        }
      ],
      "source": [
        "# Format check in dailymed moieties\n",
        "merged_part_1.loc[10,'openfda_spl_set_id']"
      ]
    },
    {
      "cell_type": "code",
      "execution_count": null,
      "metadata": {
        "id": "C8FL8sCXXKzm"
      },
      "outputs": [],
      "source": [
        "# inner= intersection of keys from both frames, default is how=inner\n",
        "\n",
        "daily_adverse=pd.merge(merged_part_1, adverse_events,left_on='openfda_spl_set_id', right_on='spl_set_id')"
      ]
    },
    {
      "cell_type": "code",
      "execution_count": null,
      "metadata": {
        "id": "MD3YYtAw_K9t",
        "outputId": "0556e9ff-05e1-4284-d0f7-f431a8ec0305"
      },
      "outputs": [
        {
          "data": {
            "text/plain": [
              "(211202, 29)"
            ]
          },
          "execution_count": 18,
          "metadata": {},
          "output_type": "execute_result"
        }
      ],
      "source": [
        "daily_adverse.shape"
      ]
    },
    {
      "cell_type": "code",
      "execution_count": null,
      "metadata": {
        "id": "TE7vRsAlXKzn",
        "outputId": "1169271d-35c1-4cb8-a75e-db5acf6a43ea"
      },
      "outputs": [
        {
          "data": {
            "text/html": [
              "<div>\n",
              "<style scoped>\n",
              "    .dataframe tbody tr th:only-of-type {\n",
              "        vertical-align: middle;\n",
              "    }\n",
              "\n",
              "    .dataframe tbody tr th {\n",
              "        vertical-align: top;\n",
              "    }\n",
              "\n",
              "    .dataframe thead th {\n",
              "        text-align: right;\n",
              "    }\n",
              "</style>\n",
              "<table border=\"1\" class=\"dataframe\">\n",
              "  <thead>\n",
              "    <tr style=\"text-align: right;\">\n",
              "      <th></th>\n",
              "      <th>openfda_spl_set_id</th>\n",
              "      <th>UNII Codes for Inactive Ingredients</th>\n",
              "      <th>Active Ingredient Names</th>\n",
              "      <th>UNII Codes for Active Ingredients</th>\n",
              "      <th>Routes of Administration</th>\n",
              "      <th>Product Types</th>\n",
              "      <th>uuid</th>\n",
              "      <th>atropisomerism</th>\n",
              "      <th>charge</th>\n",
              "      <th>count</th>\n",
              "      <th>...</th>\n",
              "      <th>seriousnessdeath</th>\n",
              "      <th>seriousnesslifethreatening</th>\n",
              "      <th>seriousnesshospitalization</th>\n",
              "      <th>seriousnessdisabling</th>\n",
              "      <th>seriousnesscongenitalanomali</th>\n",
              "      <th>seriousnessother</th>\n",
              "      <th>reactionmeddrapt</th>\n",
              "      <th>reactionoutcome</th>\n",
              "      <th>spl_set_id</th>\n",
              "      <th>patientsex</th>\n",
              "    </tr>\n",
              "  </thead>\n",
              "  <tbody>\n",
              "    <tr>\n",
              "      <th>0</th>\n",
              "      <td>3b0dccd6-dee1-49dd-8c6d-82df5c7ee36c</td>\n",
              "      <td>KEH0A3F75J, F76354LMGR, 4T6H12BN9U, 7G1J5DA97F</td>\n",
              "      <td>Alclometasone dipropionate</td>\n",
              "      <td>S56PQL4N1V</td>\n",
              "      <td>TOPICAL</td>\n",
              "      <td>HUMAN PRESCRIPTION DRUG</td>\n",
              "      <td>2978f8c4-2bce-4a57-b781-a6a774c1daaf</td>\n",
              "      <td>No</td>\n",
              "      <td>0</td>\n",
              "      <td>1</td>\n",
              "      <td>...</td>\n",
              "      <td>2.0</td>\n",
              "      <td>2.0</td>\n",
              "      <td>2.0</td>\n",
              "      <td>2.0</td>\n",
              "      <td>2.0</td>\n",
              "      <td>2.0</td>\n",
              "      <td>['Rash erythematous', 'Application site prurit...</td>\n",
              "      <td>['2', '2', '2', '2', '2', '2']</td>\n",
              "      <td>3b0dccd6-dee1-49dd-8c6d-82df5c7ee36c</td>\n",
              "      <td>NaN</td>\n",
              "    </tr>\n",
              "    <tr>\n",
              "      <th>1</th>\n",
              "      <td>cd742c16-c003-4c4c-8fa0-a3b4d0158383</td>\n",
              "      <td>8SKN0B0MIM, 55X04QC32I, 506T60A25R, W4888I119H...</td>\n",
              "      <td>RISPERIDONE</td>\n",
              "      <td>L6UH7ZF8HC</td>\n",
              "      <td>ORAL</td>\n",
              "      <td>HUMAN PRESCRIPTION DRUG</td>\n",
              "      <td>324c9292-925d-4667-8392-bf05f13b1f94</td>\n",
              "      <td>No</td>\n",
              "      <td>0</td>\n",
              "      <td>1</td>\n",
              "      <td>...</td>\n",
              "      <td>2.0</td>\n",
              "      <td>2.0</td>\n",
              "      <td>1.0</td>\n",
              "      <td>2.0</td>\n",
              "      <td>2.0</td>\n",
              "      <td>2.0</td>\n",
              "      <td>['Hepatic function abnormal', 'Extrapyramidal ...</td>\n",
              "      <td>['6', '6', '6', '6', '6', '6', '6', '6', '6', ...</td>\n",
              "      <td>cd742c16-c003-4c4c-8fa0-a3b4d0158383</td>\n",
              "      <td>NaN</td>\n",
              "    </tr>\n",
              "    <tr>\n",
              "      <th>2</th>\n",
              "      <td>cd742c16-c003-4c4c-8fa0-a3b4d0158383</td>\n",
              "      <td>8SKN0B0MIM, 55X04QC32I, 506T60A25R, W4888I119H...</td>\n",
              "      <td>RISPERIDONE</td>\n",
              "      <td>L6UH7ZF8HC</td>\n",
              "      <td>ORAL</td>\n",
              "      <td>HUMAN PRESCRIPTION DRUG</td>\n",
              "      <td>324c9292-925d-4667-8392-bf05f13b1f94</td>\n",
              "      <td>No</td>\n",
              "      <td>0</td>\n",
              "      <td>1</td>\n",
              "      <td>...</td>\n",
              "      <td>1.0</td>\n",
              "      <td>2.0</td>\n",
              "      <td>1.0</td>\n",
              "      <td>2.0</td>\n",
              "      <td>2.0</td>\n",
              "      <td>2.0</td>\n",
              "      <td>['Hypothermia', 'Hypoglycaemia', 'Bradycardia']</td>\n",
              "      <td>['5', '5', '5']</td>\n",
              "      <td>cd742c16-c003-4c4c-8fa0-a3b4d0158383</td>\n",
              "      <td>1.0</td>\n",
              "    </tr>\n",
              "  </tbody>\n",
              "</table>\n",
              "<p>3 rows × 29 columns</p>\n",
              "</div>"
            ],
            "text/plain": [
              "                     openfda_spl_set_id  \\\n",
              "0  3b0dccd6-dee1-49dd-8c6d-82df5c7ee36c   \n",
              "1  cd742c16-c003-4c4c-8fa0-a3b4d0158383   \n",
              "2  cd742c16-c003-4c4c-8fa0-a3b4d0158383   \n",
              "\n",
              "                 UNII Codes for Inactive Ingredients  \\\n",
              "0     KEH0A3F75J, F76354LMGR, 4T6H12BN9U, 7G1J5DA97F   \n",
              "1  8SKN0B0MIM, 55X04QC32I, 506T60A25R, W4888I119H...   \n",
              "2  8SKN0B0MIM, 55X04QC32I, 506T60A25R, W4888I119H...   \n",
              "\n",
              "      Active Ingredient Names UNII Codes for Active Ingredients  \\\n",
              "0  Alclometasone dipropionate                        S56PQL4N1V   \n",
              "1                 RISPERIDONE                        L6UH7ZF8HC   \n",
              "2                 RISPERIDONE                        L6UH7ZF8HC   \n",
              "\n",
              "  Routes of Administration            Product Types  \\\n",
              "0                  TOPICAL  HUMAN PRESCRIPTION DRUG   \n",
              "1                     ORAL  HUMAN PRESCRIPTION DRUG   \n",
              "2                     ORAL  HUMAN PRESCRIPTION DRUG   \n",
              "\n",
              "                                   uuid atropisomerism  charge  count  ...  \\\n",
              "0  2978f8c4-2bce-4a57-b781-a6a774c1daaf             No       0      1  ...   \n",
              "1  324c9292-925d-4667-8392-bf05f13b1f94             No       0      1  ...   \n",
              "2  324c9292-925d-4667-8392-bf05f13b1f94             No       0      1  ...   \n",
              "\n",
              "  seriousnessdeath  seriousnesslifethreatening  seriousnesshospitalization  \\\n",
              "0              2.0                         2.0                         2.0   \n",
              "1              2.0                         2.0                         1.0   \n",
              "2              1.0                         2.0                         1.0   \n",
              "\n",
              "   seriousnessdisabling seriousnesscongenitalanomali  seriousnessother  \\\n",
              "0                   2.0                          2.0               2.0   \n",
              "1                   2.0                          2.0               2.0   \n",
              "2                   2.0                          2.0               2.0   \n",
              "\n",
              "                                    reactionmeddrapt  \\\n",
              "0  ['Rash erythematous', 'Application site prurit...   \n",
              "1  ['Hepatic function abnormal', 'Extrapyramidal ...   \n",
              "2    ['Hypothermia', 'Hypoglycaemia', 'Bradycardia']   \n",
              "\n",
              "                                     reactionoutcome  \\\n",
              "0                     ['2', '2', '2', '2', '2', '2']   \n",
              "1  ['6', '6', '6', '6', '6', '6', '6', '6', '6', ...   \n",
              "2                                    ['5', '5', '5']   \n",
              "\n",
              "                             spl_set_id patientsex  \n",
              "0  3b0dccd6-dee1-49dd-8c6d-82df5c7ee36c        NaN  \n",
              "1  cd742c16-c003-4c4c-8fa0-a3b4d0158383        NaN  \n",
              "2  cd742c16-c003-4c4c-8fa0-a3b4d0158383        1.0  \n",
              "\n",
              "[3 rows x 29 columns]"
            ]
          },
          "execution_count": 19,
          "metadata": {},
          "output_type": "execute_result"
        }
      ],
      "source": [
        "daily_adverse.head(3)"
      ]
    },
    {
      "cell_type": "code",
      "execution_count": null,
      "metadata": {
        "id": "oUO2qU6G_K9t",
        "outputId": "1b321566-3e5b-4ff9-c6f9-ff6f7593666e"
      },
      "outputs": [
        {
          "name": "stdout",
          "output_type": "stream",
          "text": [
            "<class 'pandas.core.frame.DataFrame'>\n",
            "RangeIndex: 211202 entries, 0 to 211201\n",
            "Data columns (total 29 columns):\n",
            " #   Column                               Non-Null Count   Dtype  \n",
            "---  ------                               --------------   -----  \n",
            " 0   openfda_spl_set_id                   211202 non-null  object \n",
            " 1   UNII Codes for Inactive Ingredients  203581 non-null  object \n",
            " 2   Active Ingredient Names              211202 non-null  object \n",
            " 3   UNII Codes for Active Ingredients    211202 non-null  object \n",
            " 4   Routes of Administration             211202 non-null  object \n",
            " 5   Product Types                        211202 non-null  object \n",
            " 6   uuid                                 211202 non-null  object \n",
            " 7   atropisomerism                       211202 non-null  object \n",
            " 8   charge                               211202 non-null  int64  \n",
            " 9   count                                211202 non-null  int64  \n",
            " 10  stereochemistry                      211202 non-null  object \n",
            " 11  defined_stereo                       211202 non-null  int64  \n",
            " 12  ez_centers                           211202 non-null  int64  \n",
            " 13  molecular_weight                     211202 non-null  float64\n",
            " 14  optical_activity                     211202 non-null  object \n",
            " 15  stereo_centers                       211202 non-null  int64  \n",
            " 16  unii                                 211202 non-null  object \n",
            " 17  safetyreportid                       211202 non-null  object \n",
            " 18  serious                              211202 non-null  object \n",
            " 19  seriousnessdeath                     197476 non-null  object \n",
            " 20  seriousnesslifethreatening           197926 non-null  object \n",
            " 21  seriousnesshospitalization           201203 non-null  object \n",
            " 22  seriousnessdisabling                 196786 non-null  object \n",
            " 23  seriousnesscongenitalanomali         196574 non-null  object \n",
            " 24  seriousnessother                     202686 non-null  object \n",
            " 25  reactionmeddrapt                     211202 non-null  object \n",
            " 26  reactionoutcome                      201330 non-null  object \n",
            " 27  spl_set_id                           211202 non-null  object \n",
            " 28  patientsex                           175554 non-null  object \n",
            "dtypes: float64(1), int64(5), object(23)\n",
            "memory usage: 46.7+ MB\n"
          ]
        }
      ],
      "source": [
        "daily_adverse.info()"
      ]
    },
    {
      "cell_type": "code",
      "execution_count": null,
      "metadata": {
        "id": "VCxludChXKzn",
        "outputId": "6afc463f-66fd-4686-bb27-c006c6309f3f"
      },
      "outputs": [
        {
          "data": {
            "text/plain": [
              "Index(['openfda_spl_set_id', 'UNII Codes for Inactive Ingredients',\n",
              "       'Active Ingredient Names', 'UNII Codes for Active Ingredients',\n",
              "       'Routes of Administration', 'Product Types', 'uuid', 'atropisomerism',\n",
              "       'charge', 'count', 'stereochemistry', 'defined_stereo', 'ez_centers',\n",
              "       'molecular_weight', 'optical_activity', 'stereo_centers', 'unii',\n",
              "       'safetyreportid', 'serious', 'seriousnessdeath',\n",
              "       'seriousnesslifethreatening', 'seriousnesshospitalization',\n",
              "       'seriousnessdisabling', 'seriousnesscongenitalanomali',\n",
              "       'seriousnessother', 'reactionmeddrapt', 'reactionoutcome', 'spl_set_id',\n",
              "       'patientsex'],\n",
              "      dtype='object')"
            ]
          },
          "execution_count": 21,
          "metadata": {},
          "output_type": "execute_result"
        }
      ],
      "source": [
        "daily_adverse.columns"
      ]
    },
    {
      "cell_type": "markdown",
      "metadata": {
        "id": "pJZfp8sRXKzn"
      },
      "source": [
        "## 3.2 Partial dataset improvement and cleaning"
      ]
    },
    {
      "cell_type": "markdown",
      "metadata": {
        "id": "q6R5jriQ_K9v"
      },
      "source": [
        "The additional field to handle is reactionmeddrapt and reactionoutcome that both contains many useful entries in the same field. They'll be converted from string to lists and the latter splitted in individual rows. Cleaning step will follow deleting Nan values from patientensex and reportid. Finally the seriouness fields will be combined in two scores: seriousness_score (combining all seriousness fields in one) and risk_score (combining seious category, seriousness fields and the otcome of the adverse event)."
      ]
    },
    {
      "cell_type": "code",
      "execution_count": null,
      "metadata": {
        "id": "ojZt7VpsXKzn"
      },
      "outputs": [],
      "source": [
        "# Convert the dataframes in np arrays\n",
        "\n",
        "daily_adverse=daily_adverse.to_numpy()"
      ]
    },
    {
      "cell_type": "code",
      "execution_count": null,
      "metadata": {
        "id": "Zi0JZgw6_K9v",
        "outputId": "887de80f-9275-4914-99ff-25d135e9a50d"
      },
      "outputs": [
        {
          "data": {
            "text/plain": [
              "array([\"['2', '2', '2', '2', '2', '2']\",\n",
              "       \"['6', '6', '6', '6', '6', '6', '6', '6', '6', '6', '6', '6', '6']\",\n",
              "       \"['5', '5', '5']\", ..., \"['1', '6', '1']\", \"['6', '6']\", \"['5']\"],\n",
              "      dtype=object)"
            ]
          },
          "execution_count": 23,
          "metadata": {},
          "output_type": "execute_result"
        }
      ],
      "source": [
        "# entry verification on a random record\n",
        "\n",
        "daily_adverse[:,26]"
      ]
    },
    {
      "cell_type": "code",
      "execution_count": null,
      "metadata": {
        "id": "p8ERvi_DXKzn",
        "outputId": "503c4d4d-a672-4bfb-8570-f002ad3f8c17"
      },
      "outputs": [
        {
          "name": "stdout",
          "output_type": "stream",
          "text": [
            "Expanded array shape is = (738742, 29)\n"
          ]
        }
      ],
      "source": [
        "# Split the adverse event description and outcome in single entries\n",
        "# 25 is reactionmeddrapt, 26 is reactionoutcome\n",
        "\n",
        "adv_ev_new = functions.col_splitter(daily_adverse, 25, 26)\n",
        "print('Expanded array shape is =', adv_ev_new.shape)"
      ]
    },
    {
      "cell_type": "code",
      "execution_count": null,
      "metadata": {
        "id": "PksCn0z8XKzn",
        "outputId": "7e19dfe3-6ab7-4c08-a743-2e866f3235d4"
      },
      "outputs": [
        {
          "name": "stdout",
          "output_type": "stream",
          "text": [
            "After removal of NaN shape is=  (633309, 29)\n"
          ]
        }
      ],
      "source": [
        "# Drop Nan values\n",
        "\n",
        "adv_ev_cleaned=functions.drop_nan(adv_ev_new, 28)  # patientensex\n",
        "adv_ev_cleaned=functions.drop_nan(adv_ev_cleaned, 18)  # serious\n",
        "print('After removal of NaN shape is= ' , adv_ev_cleaned.shape)"
      ]
    },
    {
      "cell_type": "code",
      "execution_count": null,
      "metadata": {
        "id": "5Fhh5QnRXKzn",
        "outputId": "922df4ba-a5f5-4727-ef7e-00bd5ed34c2e"
      },
      "outputs": [
        {
          "name": "stdout",
          "output_type": "stream",
          "text": [
            "Seriousness_score is calculated, 5 columns removed for each seriousness type\n",
            "Array with seriousness_score shape is=  (633309, 24)\n"
          ]
        }
      ],
      "source": [
        "# Calculate the seriousness score and drop the seriousness individual columns\n",
        "\n",
        "col_list=[20,21,22,23,24] # seriousnesslifethreating to seriousnessother\n",
        "adv_ev_ranked=functions.seriousness_ranker(adv_ev_cleaned,19,col_list=col_list)   # 19 seriousnessdeath\n",
        "reduced_array=np.delete(adv_ev_ranked, np.s_[19:25], 1) # seriousnessdeath to seriousnessother(+1 due to np index)\n",
        "print('Seriousness_score is calculated, 5 columns removed for each seriousness type')\n",
        "print('Array with seriousness_score shape is= ', reduced_array.shape)"
      ]
    },
    {
      "cell_type": "code",
      "execution_count": null,
      "metadata": {
        "id": "1XBIRlrd_K9w"
      },
      "outputs": [],
      "source": [
        "temp_df=pd.DataFrame(reduced_array, columns=['openfda_spl_set_id', 'UNII Codes for Inactive Ingredients',\n",
        "       'Active Ingredient Names', 'UNII Codes for Active Ingredients',\n",
        "       'Routes of Administration', 'Product Types', 'uuid', 'atropisomerism',\n",
        "       'charge', 'count', 'stereochemistry', 'defined_stereo', 'ez_centers',\n",
        "       'molecular_weight', 'optical_activity', 'stereo_centers', 'unii',\n",
        "       'safetyreportid', 'serious', 'reactionmeddrapt', 'reactionoutcome', 'spl_set_id',\n",
        "       'patientsex','seriousness_score'])"
      ]
    },
    {
      "cell_type": "code",
      "execution_count": null,
      "metadata": {
        "id": "Wa_Jcv3M_K9w",
        "outputId": "12a6459a-48fe-4d33-ebdf-0da7a41526c4"
      },
      "outputs": [
        {
          "data": {
            "text/html": [
              "<div>\n",
              "<style scoped>\n",
              "    .dataframe tbody tr th:only-of-type {\n",
              "        vertical-align: middle;\n",
              "    }\n",
              "\n",
              "    .dataframe tbody tr th {\n",
              "        vertical-align: top;\n",
              "    }\n",
              "\n",
              "    .dataframe thead th {\n",
              "        text-align: right;\n",
              "    }\n",
              "</style>\n",
              "<table border=\"1\" class=\"dataframe\">\n",
              "  <thead>\n",
              "    <tr style=\"text-align: right;\">\n",
              "      <th></th>\n",
              "      <th>UNII Codes for Inactive Ingredients</th>\n",
              "      <th>safetyreportid</th>\n",
              "      <th>serious</th>\n",
              "      <th>reactionmeddrapt</th>\n",
              "      <th>reactionoutcome</th>\n",
              "      <th>patientsex</th>\n",
              "      <th>seriousness_score</th>\n",
              "    </tr>\n",
              "  </thead>\n",
              "  <tbody>\n",
              "    <tr>\n",
              "      <th>0</th>\n",
              "      <td>8SKN0B0MIM, 55X04QC32I, 506T60A25R, W4888I119H...</td>\n",
              "      <td>23127343</td>\n",
              "      <td>1</td>\n",
              "      <td>Hypothermia</td>\n",
              "      <td>5</td>\n",
              "      <td>1.0</td>\n",
              "      <td>5</td>\n",
              "    </tr>\n",
              "    <tr>\n",
              "      <th>1</th>\n",
              "      <td>8SKN0B0MIM, 55X04QC32I, 506T60A25R, W4888I119H...</td>\n",
              "      <td>23127343</td>\n",
              "      <td>1</td>\n",
              "      <td>Hypoglycaemia</td>\n",
              "      <td>5</td>\n",
              "      <td>1.0</td>\n",
              "      <td>5</td>\n",
              "    </tr>\n",
              "    <tr>\n",
              "      <th>2</th>\n",
              "      <td>8SKN0B0MIM, 55X04QC32I, 506T60A25R, W4888I119H...</td>\n",
              "      <td>23127343</td>\n",
              "      <td>1</td>\n",
              "      <td>Bradycardia</td>\n",
              "      <td>5</td>\n",
              "      <td>1.0</td>\n",
              "      <td>5</td>\n",
              "    </tr>\n",
              "    <tr>\n",
              "      <th>3</th>\n",
              "      <td>8SKN0B0MIM, 55X04QC32I, 506T60A25R, W4888I119H...</td>\n",
              "      <td>23275256</td>\n",
              "      <td>2</td>\n",
              "      <td>Hypophagia</td>\n",
              "      <td>6</td>\n",
              "      <td>1.0</td>\n",
              "      <td>0</td>\n",
              "    </tr>\n",
              "    <tr>\n",
              "      <th>4</th>\n",
              "      <td>8SKN0B0MIM, 55X04QC32I, 506T60A25R, W4888I119H...</td>\n",
              "      <td>23275256</td>\n",
              "      <td>2</td>\n",
              "      <td>Condition aggravated</td>\n",
              "      <td>2</td>\n",
              "      <td>1.0</td>\n",
              "      <td>0</td>\n",
              "    </tr>\n",
              "    <tr>\n",
              "      <th>...</th>\n",
              "      <td>...</td>\n",
              "      <td>...</td>\n",
              "      <td>...</td>\n",
              "      <td>...</td>\n",
              "      <td>...</td>\n",
              "      <td>...</td>\n",
              "      <td>...</td>\n",
              "    </tr>\n",
              "    <tr>\n",
              "      <th>633304</th>\n",
              "      <td>ETJ7Z6XBU4, 3A3U0GI71G, 70097M6I30, OP1R32D61U...</td>\n",
              "      <td>23070469</td>\n",
              "      <td>1</td>\n",
              "      <td>Muscle spasms</td>\n",
              "      <td>6</td>\n",
              "      <td>2.0</td>\n",
              "      <td>1</td>\n",
              "    </tr>\n",
              "    <tr>\n",
              "      <th>633305</th>\n",
              "      <td>ETJ7Z6XBU4, 3A3U0GI71G, 70097M6I30, OP1R32D61U...</td>\n",
              "      <td>23070469</td>\n",
              "      <td>1</td>\n",
              "      <td>Drug withdrawal syndrome</td>\n",
              "      <td>1</td>\n",
              "      <td>2.0</td>\n",
              "      <td>1</td>\n",
              "    </tr>\n",
              "    <tr>\n",
              "      <th>633306</th>\n",
              "      <td>ETJ7Z6XBU4, 3A3U0GI71G, 70097M6I30, OP1R32D61U...</td>\n",
              "      <td>23196400</td>\n",
              "      <td>2</td>\n",
              "      <td>Poor quality product administered</td>\n",
              "      <td>6</td>\n",
              "      <td>1.0</td>\n",
              "      <td>0</td>\n",
              "    </tr>\n",
              "    <tr>\n",
              "      <th>633307</th>\n",
              "      <td>ETJ7Z6XBU4, 3A3U0GI71G, 70097M6I30, OP1R32D61U...</td>\n",
              "      <td>23196400</td>\n",
              "      <td>2</td>\n",
              "      <td>Product quality issue</td>\n",
              "      <td>6</td>\n",
              "      <td>1.0</td>\n",
              "      <td>0</td>\n",
              "    </tr>\n",
              "    <tr>\n",
              "      <th>633308</th>\n",
              "      <td>ETJ7Z6XBU4, 3A3U0GI71G, 70097M6I30, OP1R32D61U...</td>\n",
              "      <td>23306419</td>\n",
              "      <td>1</td>\n",
              "      <td>Poisoning deliberate</td>\n",
              "      <td>5</td>\n",
              "      <td>2.0</td>\n",
              "      <td>5</td>\n",
              "    </tr>\n",
              "  </tbody>\n",
              "</table>\n",
              "<p>633309 rows × 7 columns</p>\n",
              "</div>"
            ],
            "text/plain": [
              "                      UNII Codes for Inactive Ingredients safetyreportid  \\\n",
              "0       8SKN0B0MIM, 55X04QC32I, 506T60A25R, W4888I119H...       23127343   \n",
              "1       8SKN0B0MIM, 55X04QC32I, 506T60A25R, W4888I119H...       23127343   \n",
              "2       8SKN0B0MIM, 55X04QC32I, 506T60A25R, W4888I119H...       23127343   \n",
              "3       8SKN0B0MIM, 55X04QC32I, 506T60A25R, W4888I119H...       23275256   \n",
              "4       8SKN0B0MIM, 55X04QC32I, 506T60A25R, W4888I119H...       23275256   \n",
              "...                                                   ...            ...   \n",
              "633304  ETJ7Z6XBU4, 3A3U0GI71G, 70097M6I30, OP1R32D61U...       23070469   \n",
              "633305  ETJ7Z6XBU4, 3A3U0GI71G, 70097M6I30, OP1R32D61U...       23070469   \n",
              "633306  ETJ7Z6XBU4, 3A3U0GI71G, 70097M6I30, OP1R32D61U...       23196400   \n",
              "633307  ETJ7Z6XBU4, 3A3U0GI71G, 70097M6I30, OP1R32D61U...       23196400   \n",
              "633308  ETJ7Z6XBU4, 3A3U0GI71G, 70097M6I30, OP1R32D61U...       23306419   \n",
              "\n",
              "       serious                   reactionmeddrapt reactionoutcome patientsex  \\\n",
              "0            1                        Hypothermia               5        1.0   \n",
              "1            1                      Hypoglycaemia               5        1.0   \n",
              "2            1                        Bradycardia               5        1.0   \n",
              "3            2                         Hypophagia               6        1.0   \n",
              "4            2               Condition aggravated               2        1.0   \n",
              "...        ...                                ...             ...        ...   \n",
              "633304       1                      Muscle spasms               6        2.0   \n",
              "633305       1           Drug withdrawal syndrome               1        2.0   \n",
              "633306       2  Poor quality product administered               6        1.0   \n",
              "633307       2              Product quality issue               6        1.0   \n",
              "633308       1               Poisoning deliberate               5        2.0   \n",
              "\n",
              "       seriousness_score  \n",
              "0                      5  \n",
              "1                      5  \n",
              "2                      5  \n",
              "3                      0  \n",
              "4                      0  \n",
              "...                  ...  \n",
              "633304                 1  \n",
              "633305                 1  \n",
              "633306                 0  \n",
              "633307                 0  \n",
              "633308                 5  \n",
              "\n",
              "[633309 rows x 7 columns]"
            ]
          },
          "execution_count": 28,
          "metadata": {},
          "output_type": "execute_result"
        }
      ],
      "source": [
        "temp_df.loc[:,['UNII Codes for Inactive Ingredients','safetyreportid', 'serious', 'reactionmeddrapt', 'reactionoutcome',\n",
        "       'patientsex', 'seriousness_score']]"
      ]
    },
    {
      "cell_type": "code",
      "execution_count": null,
      "metadata": {
        "id": "Nc6ydwBK_K9w",
        "outputId": "07e77b3d-dd35-4252-ce45-7a65e7721eed"
      },
      "outputs": [
        {
          "data": {
            "text/plain": [
              "array(['Hypothermia', 'Hypoglycaemia', 'Bradycardia', ...,\n",
              "       'Poor quality product administered', 'Product quality issue',\n",
              "       'Poisoning deliberate'], dtype=object)"
            ]
          },
          "execution_count": 29,
          "metadata": {},
          "output_type": "execute_result"
        }
      ],
      "source": [
        "reduced_array[:,19]"
      ]
    },
    {
      "cell_type": "code",
      "execution_count": null,
      "metadata": {
        "id": "dJ4uSAWcXKzo",
        "outputId": "2328182c-7afd-41dc-d494-05c697572fe1"
      },
      "outputs": [
        {
          "name": "stdout",
          "output_type": "stream",
          "text": [
            "Array with risk_score shape is (630821, 25)\n"
          ]
        }
      ],
      "source": [
        "# Calculate the risk score from serious, outcome and seriousness score\n",
        "\n",
        "red_array=functions.drop_string(reduced_array,20,string='')  # outcome columns values are recognized as string\n",
        "ranked_array=functions.risk_ranker(red_array,18,20,23)  # serious, outcome and seriousness_score\n",
        "print('Array with risk_score shape is', ranked_array.shape)"
      ]
    },
    {
      "cell_type": "code",
      "execution_count": null,
      "metadata": {
        "id": "VSNuiQpPXKzo",
        "outputId": "5e39b51f-de80-4e3e-a630-a3fdfcdded43"
      },
      "outputs": [
        {
          "data": {
            "text/html": [
              "<div>\n",
              "<style scoped>\n",
              "    .dataframe tbody tr th:only-of-type {\n",
              "        vertical-align: middle;\n",
              "    }\n",
              "\n",
              "    .dataframe tbody tr th {\n",
              "        vertical-align: top;\n",
              "    }\n",
              "\n",
              "    .dataframe thead th {\n",
              "        text-align: right;\n",
              "    }\n",
              "</style>\n",
              "<table border=\"1\" class=\"dataframe\">\n",
              "  <thead>\n",
              "    <tr style=\"text-align: right;\">\n",
              "      <th></th>\n",
              "      <th>openfda_spl_set_id</th>\n",
              "      <th>UNII Codes for Inactive Ingredients</th>\n",
              "      <th>Active Ingredient Names</th>\n",
              "      <th>UNII Codes for Active Ingredients</th>\n",
              "      <th>Routes of Administration</th>\n",
              "      <th>Product Types</th>\n",
              "      <th>uuid</th>\n",
              "      <th>atropisomerism</th>\n",
              "      <th>charge</th>\n",
              "      <th>count</th>\n",
              "      <th>...</th>\n",
              "      <th>stereo_centers</th>\n",
              "      <th>unii</th>\n",
              "      <th>safetyreportid</th>\n",
              "      <th>serious</th>\n",
              "      <th>reactionmeddrapt</th>\n",
              "      <th>reactionoutcome</th>\n",
              "      <th>spl_set_id</th>\n",
              "      <th>patientsex</th>\n",
              "      <th>seriousness_score</th>\n",
              "      <th>risk score</th>\n",
              "    </tr>\n",
              "  </thead>\n",
              "  <tbody>\n",
              "    <tr>\n",
              "      <th>0</th>\n",
              "      <td>cd742c16-c003-4c4c-8fa0-a3b4d0158383</td>\n",
              "      <td>8SKN0B0MIM, 55X04QC32I, 506T60A25R, W4888I119H...</td>\n",
              "      <td>RISPERIDONE</td>\n",
              "      <td>L6UH7ZF8HC</td>\n",
              "      <td>ORAL</td>\n",
              "      <td>HUMAN PRESCRIPTION DRUG</td>\n",
              "      <td>324c9292-925d-4667-8392-bf05f13b1f94</td>\n",
              "      <td>No</td>\n",
              "      <td>0</td>\n",
              "      <td>1</td>\n",
              "      <td>...</td>\n",
              "      <td>0</td>\n",
              "      <td>L6UH7ZF8HC</td>\n",
              "      <td>23127343</td>\n",
              "      <td>1</td>\n",
              "      <td>Hypothermia</td>\n",
              "      <td>5</td>\n",
              "      <td>cd742c16-c003-4c4c-8fa0-a3b4d0158383</td>\n",
              "      <td>1.0</td>\n",
              "      <td>5</td>\n",
              "      <td>15</td>\n",
              "    </tr>\n",
              "    <tr>\n",
              "      <th>1</th>\n",
              "      <td>cd742c16-c003-4c4c-8fa0-a3b4d0158383</td>\n",
              "      <td>8SKN0B0MIM, 55X04QC32I, 506T60A25R, W4888I119H...</td>\n",
              "      <td>RISPERIDONE</td>\n",
              "      <td>L6UH7ZF8HC</td>\n",
              "      <td>ORAL</td>\n",
              "      <td>HUMAN PRESCRIPTION DRUG</td>\n",
              "      <td>324c9292-925d-4667-8392-bf05f13b1f94</td>\n",
              "      <td>No</td>\n",
              "      <td>0</td>\n",
              "      <td>1</td>\n",
              "      <td>...</td>\n",
              "      <td>0</td>\n",
              "      <td>L6UH7ZF8HC</td>\n",
              "      <td>23127343</td>\n",
              "      <td>1</td>\n",
              "      <td>Hypoglycaemia</td>\n",
              "      <td>5</td>\n",
              "      <td>cd742c16-c003-4c4c-8fa0-a3b4d0158383</td>\n",
              "      <td>1.0</td>\n",
              "      <td>5</td>\n",
              "      <td>15</td>\n",
              "    </tr>\n",
              "    <tr>\n",
              "      <th>2</th>\n",
              "      <td>cd742c16-c003-4c4c-8fa0-a3b4d0158383</td>\n",
              "      <td>8SKN0B0MIM, 55X04QC32I, 506T60A25R, W4888I119H...</td>\n",
              "      <td>RISPERIDONE</td>\n",
              "      <td>L6UH7ZF8HC</td>\n",
              "      <td>ORAL</td>\n",
              "      <td>HUMAN PRESCRIPTION DRUG</td>\n",
              "      <td>324c9292-925d-4667-8392-bf05f13b1f94</td>\n",
              "      <td>No</td>\n",
              "      <td>0</td>\n",
              "      <td>1</td>\n",
              "      <td>...</td>\n",
              "      <td>0</td>\n",
              "      <td>L6UH7ZF8HC</td>\n",
              "      <td>23127343</td>\n",
              "      <td>1</td>\n",
              "      <td>Bradycardia</td>\n",
              "      <td>5</td>\n",
              "      <td>cd742c16-c003-4c4c-8fa0-a3b4d0158383</td>\n",
              "      <td>1.0</td>\n",
              "      <td>5</td>\n",
              "      <td>15</td>\n",
              "    </tr>\n",
              "    <tr>\n",
              "      <th>3</th>\n",
              "      <td>cd742c16-c003-4c4c-8fa0-a3b4d0158383</td>\n",
              "      <td>8SKN0B0MIM, 55X04QC32I, 506T60A25R, W4888I119H...</td>\n",
              "      <td>RISPERIDONE</td>\n",
              "      <td>L6UH7ZF8HC</td>\n",
              "      <td>ORAL</td>\n",
              "      <td>HUMAN PRESCRIPTION DRUG</td>\n",
              "      <td>324c9292-925d-4667-8392-bf05f13b1f94</td>\n",
              "      <td>No</td>\n",
              "      <td>0</td>\n",
              "      <td>1</td>\n",
              "      <td>...</td>\n",
              "      <td>0</td>\n",
              "      <td>L6UH7ZF8HC</td>\n",
              "      <td>23275256</td>\n",
              "      <td>2</td>\n",
              "      <td>Hypophagia</td>\n",
              "      <td>6</td>\n",
              "      <td>cd742c16-c003-4c4c-8fa0-a3b4d0158383</td>\n",
              "      <td>1.0</td>\n",
              "      <td>0</td>\n",
              "      <td>5</td>\n",
              "    </tr>\n",
              "    <tr>\n",
              "      <th>4</th>\n",
              "      <td>cd742c16-c003-4c4c-8fa0-a3b4d0158383</td>\n",
              "      <td>8SKN0B0MIM, 55X04QC32I, 506T60A25R, W4888I119H...</td>\n",
              "      <td>RISPERIDONE</td>\n",
              "      <td>L6UH7ZF8HC</td>\n",
              "      <td>ORAL</td>\n",
              "      <td>HUMAN PRESCRIPTION DRUG</td>\n",
              "      <td>324c9292-925d-4667-8392-bf05f13b1f94</td>\n",
              "      <td>No</td>\n",
              "      <td>0</td>\n",
              "      <td>1</td>\n",
              "      <td>...</td>\n",
              "      <td>0</td>\n",
              "      <td>L6UH7ZF8HC</td>\n",
              "      <td>23275256</td>\n",
              "      <td>2</td>\n",
              "      <td>Condition aggravated</td>\n",
              "      <td>2</td>\n",
              "      <td>cd742c16-c003-4c4c-8fa0-a3b4d0158383</td>\n",
              "      <td>1.0</td>\n",
              "      <td>0</td>\n",
              "      <td>5</td>\n",
              "    </tr>\n",
              "    <tr>\n",
              "      <th>5</th>\n",
              "      <td>cd742c16-c003-4c4c-8fa0-a3b4d0158383</td>\n",
              "      <td>8SKN0B0MIM, 55X04QC32I, 506T60A25R, W4888I119H...</td>\n",
              "      <td>RISPERIDONE</td>\n",
              "      <td>L6UH7ZF8HC</td>\n",
              "      <td>ORAL</td>\n",
              "      <td>HUMAN PRESCRIPTION DRUG</td>\n",
              "      <td>324c9292-925d-4667-8392-bf05f13b1f94</td>\n",
              "      <td>No</td>\n",
              "      <td>0</td>\n",
              "      <td>1</td>\n",
              "      <td>...</td>\n",
              "      <td>0</td>\n",
              "      <td>L6UH7ZF8HC</td>\n",
              "      <td>23275256</td>\n",
              "      <td>2</td>\n",
              "      <td>Lethargy</td>\n",
              "      <td>2</td>\n",
              "      <td>cd742c16-c003-4c4c-8fa0-a3b4d0158383</td>\n",
              "      <td>1.0</td>\n",
              "      <td>0</td>\n",
              "      <td>5</td>\n",
              "    </tr>\n",
              "    <tr>\n",
              "      <th>6</th>\n",
              "      <td>cd742c16-c003-4c4c-8fa0-a3b4d0158383</td>\n",
              "      <td>8SKN0B0MIM, 55X04QC32I, 506T60A25R, W4888I119H...</td>\n",
              "      <td>RISPERIDONE</td>\n",
              "      <td>L6UH7ZF8HC</td>\n",
              "      <td>ORAL</td>\n",
              "      <td>HUMAN PRESCRIPTION DRUG</td>\n",
              "      <td>324c9292-925d-4667-8392-bf05f13b1f94</td>\n",
              "      <td>No</td>\n",
              "      <td>0</td>\n",
              "      <td>1</td>\n",
              "      <td>...</td>\n",
              "      <td>0</td>\n",
              "      <td>L6UH7ZF8HC</td>\n",
              "      <td>23000379</td>\n",
              "      <td>1</td>\n",
              "      <td>Parkinsonism</td>\n",
              "      <td>2</td>\n",
              "      <td>cd742c16-c003-4c4c-8fa0-a3b4d0158383</td>\n",
              "      <td>2.0</td>\n",
              "      <td>1</td>\n",
              "      <td>9</td>\n",
              "    </tr>\n",
              "    <tr>\n",
              "      <th>7</th>\n",
              "      <td>cd742c16-c003-4c4c-8fa0-a3b4d0158383</td>\n",
              "      <td>8SKN0B0MIM, 55X04QC32I, 506T60A25R, W4888I119H...</td>\n",
              "      <td>RISPERIDONE</td>\n",
              "      <td>L6UH7ZF8HC</td>\n",
              "      <td>ORAL</td>\n",
              "      <td>HUMAN PRESCRIPTION DRUG</td>\n",
              "      <td>324c9292-925d-4667-8392-bf05f13b1f94</td>\n",
              "      <td>No</td>\n",
              "      <td>0</td>\n",
              "      <td>1</td>\n",
              "      <td>...</td>\n",
              "      <td>0</td>\n",
              "      <td>L6UH7ZF8HC</td>\n",
              "      <td>22665276</td>\n",
              "      <td>1</td>\n",
              "      <td>Neutropenia</td>\n",
              "      <td>1</td>\n",
              "      <td>cd742c16-c003-4c4c-8fa0-a3b4d0158383</td>\n",
              "      <td>1.0</td>\n",
              "      <td>1</td>\n",
              "      <td>9</td>\n",
              "    </tr>\n",
              "    <tr>\n",
              "      <th>8</th>\n",
              "      <td>cd742c16-c003-4c4c-8fa0-a3b4d0158383</td>\n",
              "      <td>8SKN0B0MIM, 55X04QC32I, 506T60A25R, W4888I119H...</td>\n",
              "      <td>RISPERIDONE</td>\n",
              "      <td>L6UH7ZF8HC</td>\n",
              "      <td>ORAL</td>\n",
              "      <td>HUMAN PRESCRIPTION DRUG</td>\n",
              "      <td>324c9292-925d-4667-8392-bf05f13b1f94</td>\n",
              "      <td>No</td>\n",
              "      <td>0</td>\n",
              "      <td>1</td>\n",
              "      <td>...</td>\n",
              "      <td>0</td>\n",
              "      <td>L6UH7ZF8HC</td>\n",
              "      <td>14595477</td>\n",
              "      <td>2</td>\n",
              "      <td>Emotional distress</td>\n",
              "      <td>6</td>\n",
              "      <td>cd742c16-c003-4c4c-8fa0-a3b4d0158383</td>\n",
              "      <td>1.0</td>\n",
              "      <td>0</td>\n",
              "      <td>5</td>\n",
              "    </tr>\n",
              "    <tr>\n",
              "      <th>9</th>\n",
              "      <td>cd742c16-c003-4c4c-8fa0-a3b4d0158383</td>\n",
              "      <td>8SKN0B0MIM, 55X04QC32I, 506T60A25R, W4888I119H...</td>\n",
              "      <td>RISPERIDONE</td>\n",
              "      <td>L6UH7ZF8HC</td>\n",
              "      <td>ORAL</td>\n",
              "      <td>HUMAN PRESCRIPTION DRUG</td>\n",
              "      <td>324c9292-925d-4667-8392-bf05f13b1f94</td>\n",
              "      <td>No</td>\n",
              "      <td>0</td>\n",
              "      <td>1</td>\n",
              "      <td>...</td>\n",
              "      <td>0</td>\n",
              "      <td>L6UH7ZF8HC</td>\n",
              "      <td>14595477</td>\n",
              "      <td>2</td>\n",
              "      <td>Gynaecomastia</td>\n",
              "      <td>6</td>\n",
              "      <td>cd742c16-c003-4c4c-8fa0-a3b4d0158383</td>\n",
              "      <td>1.0</td>\n",
              "      <td>0</td>\n",
              "      <td>5</td>\n",
              "    </tr>\n",
              "  </tbody>\n",
              "</table>\n",
              "<p>10 rows × 25 columns</p>\n",
              "</div>"
            ],
            "text/plain": [
              "                     openfda_spl_set_id  \\\n",
              "0  cd742c16-c003-4c4c-8fa0-a3b4d0158383   \n",
              "1  cd742c16-c003-4c4c-8fa0-a3b4d0158383   \n",
              "2  cd742c16-c003-4c4c-8fa0-a3b4d0158383   \n",
              "3  cd742c16-c003-4c4c-8fa0-a3b4d0158383   \n",
              "4  cd742c16-c003-4c4c-8fa0-a3b4d0158383   \n",
              "5  cd742c16-c003-4c4c-8fa0-a3b4d0158383   \n",
              "6  cd742c16-c003-4c4c-8fa0-a3b4d0158383   \n",
              "7  cd742c16-c003-4c4c-8fa0-a3b4d0158383   \n",
              "8  cd742c16-c003-4c4c-8fa0-a3b4d0158383   \n",
              "9  cd742c16-c003-4c4c-8fa0-a3b4d0158383   \n",
              "\n",
              "                 UNII Codes for Inactive Ingredients Active Ingredient Names  \\\n",
              "0  8SKN0B0MIM, 55X04QC32I, 506T60A25R, W4888I119H...             RISPERIDONE   \n",
              "1  8SKN0B0MIM, 55X04QC32I, 506T60A25R, W4888I119H...             RISPERIDONE   \n",
              "2  8SKN0B0MIM, 55X04QC32I, 506T60A25R, W4888I119H...             RISPERIDONE   \n",
              "3  8SKN0B0MIM, 55X04QC32I, 506T60A25R, W4888I119H...             RISPERIDONE   \n",
              "4  8SKN0B0MIM, 55X04QC32I, 506T60A25R, W4888I119H...             RISPERIDONE   \n",
              "5  8SKN0B0MIM, 55X04QC32I, 506T60A25R, W4888I119H...             RISPERIDONE   \n",
              "6  8SKN0B0MIM, 55X04QC32I, 506T60A25R, W4888I119H...             RISPERIDONE   \n",
              "7  8SKN0B0MIM, 55X04QC32I, 506T60A25R, W4888I119H...             RISPERIDONE   \n",
              "8  8SKN0B0MIM, 55X04QC32I, 506T60A25R, W4888I119H...             RISPERIDONE   \n",
              "9  8SKN0B0MIM, 55X04QC32I, 506T60A25R, W4888I119H...             RISPERIDONE   \n",
              "\n",
              "  UNII Codes for Active Ingredients Routes of Administration  \\\n",
              "0                        L6UH7ZF8HC                     ORAL   \n",
              "1                        L6UH7ZF8HC                     ORAL   \n",
              "2                        L6UH7ZF8HC                     ORAL   \n",
              "3                        L6UH7ZF8HC                     ORAL   \n",
              "4                        L6UH7ZF8HC                     ORAL   \n",
              "5                        L6UH7ZF8HC                     ORAL   \n",
              "6                        L6UH7ZF8HC                     ORAL   \n",
              "7                        L6UH7ZF8HC                     ORAL   \n",
              "8                        L6UH7ZF8HC                     ORAL   \n",
              "9                        L6UH7ZF8HC                     ORAL   \n",
              "\n",
              "             Product Types                                  uuid  \\\n",
              "0  HUMAN PRESCRIPTION DRUG  324c9292-925d-4667-8392-bf05f13b1f94   \n",
              "1  HUMAN PRESCRIPTION DRUG  324c9292-925d-4667-8392-bf05f13b1f94   \n",
              "2  HUMAN PRESCRIPTION DRUG  324c9292-925d-4667-8392-bf05f13b1f94   \n",
              "3  HUMAN PRESCRIPTION DRUG  324c9292-925d-4667-8392-bf05f13b1f94   \n",
              "4  HUMAN PRESCRIPTION DRUG  324c9292-925d-4667-8392-bf05f13b1f94   \n",
              "5  HUMAN PRESCRIPTION DRUG  324c9292-925d-4667-8392-bf05f13b1f94   \n",
              "6  HUMAN PRESCRIPTION DRUG  324c9292-925d-4667-8392-bf05f13b1f94   \n",
              "7  HUMAN PRESCRIPTION DRUG  324c9292-925d-4667-8392-bf05f13b1f94   \n",
              "8  HUMAN PRESCRIPTION DRUG  324c9292-925d-4667-8392-bf05f13b1f94   \n",
              "9  HUMAN PRESCRIPTION DRUG  324c9292-925d-4667-8392-bf05f13b1f94   \n",
              "\n",
              "  atropisomerism charge count  ... stereo_centers        unii safetyreportid  \\\n",
              "0             No      0     1  ...              0  L6UH7ZF8HC       23127343   \n",
              "1             No      0     1  ...              0  L6UH7ZF8HC       23127343   \n",
              "2             No      0     1  ...              0  L6UH7ZF8HC       23127343   \n",
              "3             No      0     1  ...              0  L6UH7ZF8HC       23275256   \n",
              "4             No      0     1  ...              0  L6UH7ZF8HC       23275256   \n",
              "5             No      0     1  ...              0  L6UH7ZF8HC       23275256   \n",
              "6             No      0     1  ...              0  L6UH7ZF8HC       23000379   \n",
              "7             No      0     1  ...              0  L6UH7ZF8HC       22665276   \n",
              "8             No      0     1  ...              0  L6UH7ZF8HC       14595477   \n",
              "9             No      0     1  ...              0  L6UH7ZF8HC       14595477   \n",
              "\n",
              "  serious      reactionmeddrapt reactionoutcome  \\\n",
              "0       1           Hypothermia               5   \n",
              "1       1         Hypoglycaemia               5   \n",
              "2       1           Bradycardia               5   \n",
              "3       2            Hypophagia               6   \n",
              "4       2  Condition aggravated               2   \n",
              "5       2              Lethargy               2   \n",
              "6       1          Parkinsonism               2   \n",
              "7       1           Neutropenia               1   \n",
              "8       2    Emotional distress               6   \n",
              "9       2         Gynaecomastia               6   \n",
              "\n",
              "                             spl_set_id patientsex seriousness_score  \\\n",
              "0  cd742c16-c003-4c4c-8fa0-a3b4d0158383        1.0                 5   \n",
              "1  cd742c16-c003-4c4c-8fa0-a3b4d0158383        1.0                 5   \n",
              "2  cd742c16-c003-4c4c-8fa0-a3b4d0158383        1.0                 5   \n",
              "3  cd742c16-c003-4c4c-8fa0-a3b4d0158383        1.0                 0   \n",
              "4  cd742c16-c003-4c4c-8fa0-a3b4d0158383        1.0                 0   \n",
              "5  cd742c16-c003-4c4c-8fa0-a3b4d0158383        1.0                 0   \n",
              "6  cd742c16-c003-4c4c-8fa0-a3b4d0158383        2.0                 1   \n",
              "7  cd742c16-c003-4c4c-8fa0-a3b4d0158383        1.0                 1   \n",
              "8  cd742c16-c003-4c4c-8fa0-a3b4d0158383        1.0                 0   \n",
              "9  cd742c16-c003-4c4c-8fa0-a3b4d0158383        1.0                 0   \n",
              "\n",
              "  risk score  \n",
              "0         15  \n",
              "1         15  \n",
              "2         15  \n",
              "3          5  \n",
              "4          5  \n",
              "5          5  \n",
              "6          9  \n",
              "7          9  \n",
              "8          5  \n",
              "9          5  \n",
              "\n",
              "[10 rows x 25 columns]"
            ]
          },
          "execution_count": 31,
          "metadata": {},
          "output_type": "execute_result"
        }
      ],
      "source": [
        "# Visualize the array as pd.DataFrame\n",
        "\n",
        "ranked_df=pd.DataFrame(ranked_array, columns=['openfda_spl_set_id', 'UNII Codes for Inactive Ingredients',\n",
        "       'Active Ingredient Names', 'UNII Codes for Active Ingredients',\n",
        "       'Routes of Administration', 'Product Types', 'uuid', 'atropisomerism',\n",
        "       'charge', 'count', 'stereochemistry', 'defined_stereo', 'ez_centers',\n",
        "       'molecular_weight', 'optical_activity', 'stereo_centers', 'unii',\n",
        "       'safetyreportid', 'serious', 'reactionmeddrapt', 'reactionoutcome', 'spl_set_id',\n",
        "       'patientsex','seriousness_score', 'risk score'])\n",
        "\n",
        "ranked_df.head(10)"
      ]
    },
    {
      "cell_type": "code",
      "execution_count": null,
      "metadata": {
        "id": "wKJK3914_K9y",
        "outputId": "91bcd4d7-7346-43d2-e62c-30b7edc5367c"
      },
      "outputs": [
        {
          "name": "stdout",
          "output_type": "stream",
          "text": [
            "<class 'pandas.core.frame.DataFrame'>\n",
            "RangeIndex: 630821 entries, 0 to 630820\n",
            "Data columns (total 25 columns):\n",
            " #   Column                               Non-Null Count   Dtype \n",
            "---  ------                               --------------   ----- \n",
            " 0   openfda_spl_set_id                   630821 non-null  object\n",
            " 1   UNII Codes for Inactive Ingredients  605208 non-null  object\n",
            " 2   Active Ingredient Names              630821 non-null  object\n",
            " 3   UNII Codes for Active Ingredients    630821 non-null  object\n",
            " 4   Routes of Administration             630821 non-null  object\n",
            " 5   Product Types                        630821 non-null  object\n",
            " 6   uuid                                 630821 non-null  object\n",
            " 7   atropisomerism                       630821 non-null  object\n",
            " 8   charge                               630821 non-null  object\n",
            " 9   count                                630821 non-null  object\n",
            " 10  stereochemistry                      630821 non-null  object\n",
            " 11  defined_stereo                       630821 non-null  object\n",
            " 12  ez_centers                           630821 non-null  object\n",
            " 13  molecular_weight                     630821 non-null  object\n",
            " 14  optical_activity                     630821 non-null  object\n",
            " 15  stereo_centers                       630821 non-null  object\n",
            " 16  unii                                 630821 non-null  object\n",
            " 17  safetyreportid                       630821 non-null  object\n",
            " 18  serious                              630821 non-null  object\n",
            " 19  reactionmeddrapt                     630821 non-null  object\n",
            " 20  reactionoutcome                      630821 non-null  object\n",
            " 21  spl_set_id                           630821 non-null  object\n",
            " 22  patientsex                           630821 non-null  object\n",
            " 23  seriousness_score                    630821 non-null  object\n",
            " 24  risk score                           630821 non-null  object\n",
            "dtypes: object(25)\n",
            "memory usage: 120.3+ MB\n"
          ]
        }
      ],
      "source": [
        "ranked_df.info()"
      ]
    },
    {
      "cell_type": "code",
      "execution_count": null,
      "metadata": {
        "id": "dJA9Ye2m_K9z",
        "outputId": "dc27083a-8f54-41a2-c991-ee8c41832e8b"
      },
      "outputs": [
        {
          "data": {
            "text/plain": [
              "array([15, 5, 9, 11, 10, 7, 3, 8, 13, 12, 14, 6], dtype=object)"
            ]
          },
          "execution_count": 33,
          "metadata": {},
          "output_type": "execute_result"
        }
      ],
      "source": [
        "# verify that we have meaningful scores\n",
        "\n",
        "ranked_df['risk score'].unique()"
      ]
    },
    {
      "cell_type": "code",
      "execution_count": null,
      "metadata": {
        "id": "5u4o4erG_K9z",
        "outputId": "2d86e673-67fb-4ab0-d038-737b329306ee"
      },
      "outputs": [
        {
          "data": {
            "text/plain": [
              "(630821, 25)"
            ]
          },
          "execution_count": 34,
          "metadata": {},
          "output_type": "execute_result"
        }
      ],
      "source": [
        "ranked_df.shape"
      ]
    },
    {
      "cell_type": "code",
      "execution_count": null,
      "metadata": {
        "id": "ZZtanJal_K9z",
        "outputId": "ce7497c2-f7c5-48d1-8511-c3437c516b69"
      },
      "outputs": [
        {
          "data": {
            "text/plain": [
              "1056"
            ]
          },
          "execution_count": 35,
          "metadata": {},
          "output_type": "execute_result"
        }
      ],
      "source": [
        "len(ranked_df['UNII Codes for Active Ingredients'].unique())"
      ]
    },
    {
      "cell_type": "code",
      "execution_count": null,
      "metadata": {
        "id": "dU2gY9DJ_K90"
      },
      "outputs": [],
      "source": [
        "# Save the frame as csv to concatenate with the frames coming from other years\n",
        "\n",
        "ranked_df.to_csv('datasets/final_w_adv_ev_Q423.csv')"
      ]
    },
    {
      "cell_type": "markdown",
      "metadata": {
        "id": "pucNw9L5_K90"
      },
      "source": [
        "# 4. Final dataset"
      ]
    },
    {
      "cell_type": "markdown",
      "metadata": {
        "id": "HaUfrLLI_K90"
      },
      "source": [
        "## 4.1 Concatenation"
      ]
    },
    {
      "cell_type": "code",
      "execution_count": null,
      "metadata": {
        "id": "inHHVDaR_K91"
      },
      "outputs": [],
      "source": [
        "adv_2020=pd.read_csv('datasets//final_w_adv_ev_2020.csv', index_col=0)\n",
        "adv_2021=pd.read_csv('datasets//final_w_adv_ev_2021.csv', index_col=0)\n",
        "adv_2022=pd.read_csv('datasets//final_w_adv_ev_2022_23.csv', index_col=0)\n",
        "adv_2023=pd.read_csv('datasets//final_w_adv_ev_Q423.csv', index_col=0)"
      ]
    },
    {
      "cell_type": "code",
      "execution_count": null,
      "metadata": {
        "id": "YJGIe5hW_K91",
        "outputId": "83a1a610-7773-41b0-bc48-0e1cede5e978"
      },
      "outputs": [
        {
          "data": {
            "text/plain": [
              "Index(['openfda_spl_set_id', 'UNII Codes for Inactive Ingredients',\n",
              "       'Active Ingredient Names', 'UNII Codes for Active Ingredients',\n",
              "       'Routes of Administration', 'Product Types', 'uuid', 'atropisomerism',\n",
              "       'charge', 'count', 'stereochemistry', 'defined_stereo', 'ez_centers',\n",
              "       'molecular_weight', 'optical_activity', 'stereo_centers', 'unii',\n",
              "       'safetyreportid', 'serious', 'reactionmeddrapt', 'reactionoutcome',\n",
              "       'spl_set_id', 'patientsex', 'seriousness_score', 'risk score'],\n",
              "      dtype='object')"
            ]
          },
          "execution_count": 4,
          "metadata": {},
          "output_type": "execute_result"
        }
      ],
      "source": [
        "adv_2020.columns"
      ]
    },
    {
      "cell_type": "code",
      "execution_count": null,
      "metadata": {
        "id": "3BWNDnGc_K91"
      },
      "outputs": [],
      "source": [
        "adv_2020=adv_2020.to_numpy()\n",
        "adv_2021=adv_2021.to_numpy()\n",
        "adv_2022=adv_2022.to_numpy()\n",
        "adv_2023=adv_2023.to_numpy()"
      ]
    },
    {
      "cell_type": "code",
      "execution_count": null,
      "metadata": {
        "id": "h5bfDOIC_K92"
      },
      "outputs": [],
      "source": [
        "adv_stacked=np.vstack((adv_2020, adv_2021, adv_2022, adv_2023))"
      ]
    },
    {
      "cell_type": "markdown",
      "metadata": {
        "id": "T1SYZvxf_K92"
      },
      "source": [
        "## 4.2 Cleaning"
      ]
    },
    {
      "cell_type": "code",
      "execution_count": null,
      "metadata": {
        "id": "cOLP5JIR_K92"
      },
      "outputs": [],
      "source": [
        "adv_stacked=functions.drop_nan(adv_stacked,22) # patientsex, not recognized as nan after conversion"
      ]
    },
    {
      "cell_type": "code",
      "execution_count": null,
      "metadata": {
        "id": "GrCMDfc6_K92"
      },
      "outputs": [],
      "source": [
        "adv_final=pd.DataFrame(adv_stacked, columns=['openfda_spl_set_id', 'UNII Codes for Inactive Ingredients',\n",
        "       'Active Ingredient Names', 'UNII Codes for Active Ingredients',\n",
        "       'Routes of Administration', 'Product Types', 'uuid', 'atropisomerism',\n",
        "       'charge', 'count', 'stereochemistry', 'defined_stereo', 'ez_centers',\n",
        "       'molecular_weight', 'optical_activity', 'stereo_centers', 'unii',\n",
        "       'safetyreportid', 'serious', 'reactionmeddrapt', 'reactionoutcome',\n",
        "       'spl_set_id', 'patientsex', 'seriousness_score', 'risk score'])"
      ]
    },
    {
      "cell_type": "code",
      "execution_count": null,
      "metadata": {
        "id": "0xzaX1RW_K93",
        "outputId": "93b5a4d2-0166-43ed-ee42-c5dfee11b3d2"
      },
      "outputs": [
        {
          "name": "stdout",
          "output_type": "stream",
          "text": [
            "After drop_duplicates shape is  (9171932, 25)\n",
            "After drop_nan shape is  (8859914, 25)\n"
          ]
        }
      ],
      "source": [
        "adv_final_dropped=adv_final.drop_duplicates()\n",
        "print('After drop_duplicates shape is ', adv_final_dropped.shape)\n",
        "adv_final_clean=adv_final_dropped.dropna(subset=['UNII Codes for Inactive Ingredients'], axis=0)\n",
        "print('After drop_nan shape is ', adv_final_clean.shape)"
      ]
    },
    {
      "cell_type": "code",
      "execution_count": null,
      "metadata": {
        "id": "hG-F39qU_K93"
      },
      "outputs": [],
      "source": [
        "adv_final_clean=adv_final_clean.drop(['openfda_spl_set_id','spl_set_id',\n",
        "    'uuid',\n",
        "    'unii',\n",
        "    'safetyreportid',\n",
        "    'serious',\n",
        "    'reactionoutcome',\n",
        "    'seriousness_score',\n",
        "    'atropisomerism',\n",
        "    'Active Ingredient Names',\n",
        "    'reactionmeddrapt'], axis=1)\n",
        "\n",
        "# reactionmeddrapt is removed for now as I tried to create the final dataset, i will add back if\n",
        "# we need to check anything on the data"
      ]
    },
    {
      "cell_type": "code",
      "execution_count": null,
      "metadata": {
        "id": "KSnw6hVI_K93",
        "outputId": "9a1c70b7-d97a-446b-8afd-46ca9be6e454"
      },
      "outputs": [
        {
          "name": "stdout",
          "output_type": "stream",
          "text": [
            "Dataframe shape is (8859914, 14)\n"
          ]
        },
        {
          "data": {
            "text/html": [
              "<div>\n",
              "<style scoped>\n",
              "    .dataframe tbody tr th:only-of-type {\n",
              "        vertical-align: middle;\n",
              "    }\n",
              "\n",
              "    .dataframe tbody tr th {\n",
              "        vertical-align: top;\n",
              "    }\n",
              "\n",
              "    .dataframe thead th {\n",
              "        text-align: right;\n",
              "    }\n",
              "</style>\n",
              "<table border=\"1\" class=\"dataframe\">\n",
              "  <thead>\n",
              "    <tr style=\"text-align: right;\">\n",
              "      <th></th>\n",
              "      <th>UNII Codes for Inactive Ingredients</th>\n",
              "      <th>UNII Codes for Active Ingredients</th>\n",
              "      <th>Routes of Administration</th>\n",
              "      <th>Product Types</th>\n",
              "      <th>charge</th>\n",
              "      <th>count</th>\n",
              "      <th>stereochemistry</th>\n",
              "      <th>defined_stereo</th>\n",
              "      <th>ez_centers</th>\n",
              "      <th>molecular_weight</th>\n",
              "      <th>optical_activity</th>\n",
              "      <th>stereo_centers</th>\n",
              "      <th>patientsex</th>\n",
              "      <th>risk score</th>\n",
              "    </tr>\n",
              "  </thead>\n",
              "  <tbody>\n",
              "    <tr>\n",
              "      <th>14</th>\n",
              "      <td>8SKN0B0MIM, 55X04QC32I, 506T60A25R, W4888I119H...</td>\n",
              "      <td>L6UH7ZF8HC</td>\n",
              "      <td>ORAL</td>\n",
              "      <td>HUMAN PRESCRIPTION DRUG</td>\n",
              "      <td>0</td>\n",
              "      <td>1</td>\n",
              "      <td>ACHIRAL</td>\n",
              "      <td>0</td>\n",
              "      <td>0</td>\n",
              "      <td>410.4854</td>\n",
              "      <td>NONE</td>\n",
              "      <td>0</td>\n",
              "      <td>1.0</td>\n",
              "      <td>7</td>\n",
              "    </tr>\n",
              "    <tr>\n",
              "      <th>15</th>\n",
              "      <td>8SKN0B0MIM, 55X04QC32I, 506T60A25R, W4888I119H...</td>\n",
              "      <td>L6UH7ZF8HC</td>\n",
              "      <td>ORAL</td>\n",
              "      <td>HUMAN PRESCRIPTION DRUG</td>\n",
              "      <td>0</td>\n",
              "      <td>1</td>\n",
              "      <td>ACHIRAL</td>\n",
              "      <td>0</td>\n",
              "      <td>0</td>\n",
              "      <td>410.4854</td>\n",
              "      <td>NONE</td>\n",
              "      <td>0</td>\n",
              "      <td>1.0</td>\n",
              "      <td>7</td>\n",
              "    </tr>\n",
              "    <tr>\n",
              "      <th>16</th>\n",
              "      <td>8SKN0B0MIM, 55X04QC32I, 506T60A25R, W4888I119H...</td>\n",
              "      <td>L6UH7ZF8HC</td>\n",
              "      <td>ORAL</td>\n",
              "      <td>HUMAN PRESCRIPTION DRUG</td>\n",
              "      <td>0</td>\n",
              "      <td>1</td>\n",
              "      <td>ACHIRAL</td>\n",
              "      <td>0</td>\n",
              "      <td>0</td>\n",
              "      <td>410.4854</td>\n",
              "      <td>NONE</td>\n",
              "      <td>0</td>\n",
              "      <td>1.0</td>\n",
              "      <td>7</td>\n",
              "    </tr>\n",
              "  </tbody>\n",
              "</table>\n",
              "</div>"
            ],
            "text/plain": [
              "                  UNII Codes for Inactive Ingredients  \\\n",
              "14  8SKN0B0MIM, 55X04QC32I, 506T60A25R, W4888I119H...   \n",
              "15  8SKN0B0MIM, 55X04QC32I, 506T60A25R, W4888I119H...   \n",
              "16  8SKN0B0MIM, 55X04QC32I, 506T60A25R, W4888I119H...   \n",
              "\n",
              "   UNII Codes for Active Ingredients Routes of Administration  \\\n",
              "14                        L6UH7ZF8HC                     ORAL   \n",
              "15                        L6UH7ZF8HC                     ORAL   \n",
              "16                        L6UH7ZF8HC                     ORAL   \n",
              "\n",
              "              Product Types charge count stereochemistry defined_stereo  \\\n",
              "14  HUMAN PRESCRIPTION DRUG      0     1         ACHIRAL              0   \n",
              "15  HUMAN PRESCRIPTION DRUG      0     1         ACHIRAL              0   \n",
              "16  HUMAN PRESCRIPTION DRUG      0     1         ACHIRAL              0   \n",
              "\n",
              "   ez_centers molecular_weight optical_activity stereo_centers patientsex  \\\n",
              "14          0         410.4854             NONE              0        1.0   \n",
              "15          0         410.4854             NONE              0        1.0   \n",
              "16          0         410.4854             NONE              0        1.0   \n",
              "\n",
              "   risk score  \n",
              "14          7  \n",
              "15          7  \n",
              "16          7  "
            ]
          },
          "execution_count": 11,
          "metadata": {},
          "output_type": "execute_result"
        }
      ],
      "source": [
        "print('Dataframe shape is', adv_final_clean.shape)\n",
        "adv_final_clean.head(3)"
      ]
    },
    {
      "cell_type": "code",
      "execution_count": null,
      "metadata": {
        "id": "vGU8CPa3_K94",
        "outputId": "dc24a734-9d89-4e2e-d062-1a776f7e49c3"
      },
      "outputs": [
        {
          "data": {
            "text/plain": [
              "Index(['UNII Codes for Inactive Ingredients',\n",
              "       'UNII Codes for Active Ingredients', 'Routes of Administration',\n",
              "       'Product Types', 'charge', 'count', 'stereochemistry', 'defined_stereo',\n",
              "       'ez_centers', 'molecular_weight', 'optical_activity', 'stereo_centers',\n",
              "       'patientsex', 'risk score'],\n",
              "      dtype='object')"
            ]
          },
          "execution_count": 12,
          "metadata": {},
          "output_type": "execute_result"
        }
      ],
      "source": [
        "adv_final_clean.columns"
      ]
    },
    {
      "cell_type": "markdown",
      "metadata": {
        "id": "VIyupvzU_K94"
      },
      "source": [
        "## 4.3 Special columns handling"
      ]
    },
    {
      "cell_type": "code",
      "execution_count": null,
      "metadata": {
        "id": "8pUTSwWb_K94"
      },
      "outputs": [],
      "source": [
        "# Patientsex\n",
        "\n",
        "adv_final_clean['patientsex']=adv_final_clean['patientsex'].replace([2.0, 1.0, 0.0], ['female','male', 'drop'])\n",
        "# adv_final_clean['patientsex'].unique() # check\n",
        "adv_final_clean.drop(adv_final_clean[adv_final_clean['patientsex']=='drop'].index,inplace=True)"
      ]
    },
    {
      "cell_type": "code",
      "execution_count": null,
      "metadata": {
        "id": "pH9s7O_S_K95",
        "outputId": "9b281ad4-4198-4534-8882-8556ce170620"
      },
      "outputs": [
        {
          "data": {
            "text/plain": [
              "array(['ORAL', 'TOPICAL', 'VAGINAL', 'IRRIGATION',\n",
              "       'INTRAMUSCULAR, INTRAVENOUS', 'INFILTRATION', 'INTRAMUSCULAR',\n",
              "       'ORAL, RECTAL', 'OPHTHALMIC',\n",
              "       'INTRATHECAL, INTRAVASCULAR, INTRAVENOUS, ORAL', 'INTRAVITREAL',\n",
              "       'INTRAVENOUS', 'RESPIRATORY (INHALATION)', 'SUBLINGUAL',\n",
              "       'INTRAVENOUS, INTRAMUSCULAR', 'TRANSDERMAL', 'NASAL',\n",
              "       'INTRAOCULAR', 'SUBARACHNOID',\n",
              "       'INTRACARDIAC, INTRAMUSCULAR, INTRAVENOUS, SUBCUTANEOUS',\n",
              "       'INTRAVENOUS, INTRAVASCULAR, INTRAVENOUS, INTERSTITIAL, INTRADERMAL',\n",
              "       'SUBCUTANEOUS', 'INTRACAVERNOUS', 'URETHRAL',\n",
              "       'INTRAVENOUS, INTRAMUSCULAR, INTRAPLEURAL, INTRATHECAL',\n",
              "       'EPIDURAL, INTRACAUDAL, INFILTRATION, PERINEURAL',\n",
              "       'INTRAMUSCULAR, INTRAVENOUS, SUBCUTANEOUS',\n",
              "       'INTRA-ARTICULAR, INTRALESIONAL, INTRAMUSCULAR, INTRASYNOVIAL, SOFT TISSUE',\n",
              "       'OPHTHALMIC, TOPICAL', 'INTRAVENOUS, INTRAMUSCULAR, SUBCUTANEOUS',\n",
              "       'INTRAVASCULAR', 'EPIDURAL, INFILTRATION, PERINEURAL',\n",
              "       'INTRATHECAL', 'RECTAL', 'INTRAMUSCULAR, INTRAVENOUS, RECTAL',\n",
              "       'INTRAVENOUS, SUBCUTANEOUS', 'SUBCUTANEOUS, INTRAVENOUS',\n",
              "       'SUBMUCOSAL', 'AURICULAR (OTIC)', 'INTRAMUSCULAR, SUBCUTANEOUS',\n",
              "       'INTRAOCULAR, OPHTHALMIC', 'INTRAVESICAL',\n",
              "       'ORAL, RESPIRATORY (INHALATION)', 'INTRAUTERINE',\n",
              "       'INTRAVENTRICULAR', 'ORAL, ORAL', 'URETERAL', 'BUCCAL, SUBLINGUAL',\n",
              "       'INTRAMUSCULAR, INTRASYNOVIAL, INTRALESIONAL, SOFT TISSUE',\n",
              "       'INTRAVENOUS, INTRAMUSCULAR, SUBCUTANEOUS, INTRACARDIAC',\n",
              "       'ORAL, TRANSMUCOSAL', 'ORAL, SUBCUTANEOUS', 'INTRA-ARTERIAL',\n",
              "       'CUTANEOUS', 'ORAL, INTRAVENOUS', 'EPIDURAL, INTRAVENOUS',\n",
              "       'INTRACAMERAL', 'INTRAVENOUS, INTRAVASCULAR',\n",
              "       'INTRAVENOUS, INTRA-ARTERIAL', 'DENTAL',\n",
              "       'EPIDURAL, INTRATHECAL, INTRAVENOUS',\n",
              "       'INTRAVENOUS, INTRAMUSCULAR, PARENTERAL',\n",
              "       'INTRAVENOUS, SUBCUTANEOUS, INTRAMUSCULAR', 'BUCCAL',\n",
              "       'OPHTHALMIC, INTRACANALICULAR', 'RESPIRATORY (INHALATION), ORAL',\n",
              "       'INTRA-ARTERIAL, INTRAVENOUS', 'ORAL, TOPICAL',\n",
              "       'INTRA-ARTICULAR, INTRAMUSCULAR', 'INTRACAVITARY',\n",
              "       'INTRAMUSCULAR, INTRAVENOUS, INTRA-ARTERIAL',\n",
              "       'INTRA-ARTICULAR, INTRALESIONAL', 'INFILTRATION, PERINEURAL',\n",
              "       'INTRAVENOUS, PARENTERAL', 'OPHTHALMIC, INTRAOCULAR',\n",
              "       'INTRAMUSCULAR, INTRAVENOUS, SUBCONJUNCTIVAL',\n",
              "       'EPIDURAL, INFILTRATION, INTRACAUDAL, PERINEURAL', 'EPIDURAL',\n",
              "       'INTRAVENOUS, RESPIRATORY (INHALATION)', 'TOPICAL, OPHTHALMIC'],\n",
              "      dtype=object)"
            ]
          },
          "execution_count": 14,
          "metadata": {},
          "output_type": "execute_result"
        }
      ],
      "source": [
        "# Route of administration column\n",
        "\n",
        "adv_final_clean['Routes of Administration'].unique()"
      ]
    },
    {
      "cell_type": "code",
      "execution_count": null,
      "metadata": {
        "id": "ogiuKzg0_K95"
      },
      "outputs": [],
      "source": [
        "parenteral_routes=['INTRAVENOUS',\n",
        " 'SUBCUTANEOUS',\n",
        " 'INTRAVENTRICULAR',\n",
        " 'INTRA-ARTERIAL',\n",
        " 'INTRAVENOUS, SUBCUTANEOUS',\n",
        " 'INTRAVENOUS, INTRAVASCULAR, INTRAVENOUS, INTERSTITIAL, INTRADERMAL',\n",
        " 'INTRAMUSCULAR, INTRAVENOUS, SUBCUTANEOUS',\n",
        " 'INTRAVITREAL',\n",
        " 'INTRAOCULAR',\n",
        " 'INTRAMUSCULAR, INTRAVENOUS',\n",
        " 'INTRAMUSCULAR',\n",
        " 'INTRAVENOUS, INTRAMUSCULAR',\n",
        " 'INTRAMUSCULAR, INTRAVENOUS, INTRA-ARTERIAL',\n",
        " 'INTRA-ARTICULAR, INTRALESIONAL, INTRAMUSCULAR, INTRASYNOVIAL, SOFT TISSUE',\n",
        " 'INTRAMUSCULAR, INTRASYNOVIAL, INTRALESIONAL, SOFT TISSUE',\n",
        " 'INTRAVENOUS, INTRAMUSCULAR, SUBCUTANEOUS',\n",
        " 'INFILTRATION',\n",
        " 'INTRAVENOUS, INTRA-ARTERIAL',\n",
        " 'SUBCUTANEOUS, INTRAVENOUS',\n",
        " 'SUBARACHNOID',\n",
        " 'EPIDURAL, INTRACAUDAL, INFILTRATION, PERINEURAL',\n",
        " 'INTRACARDIAC, INTRAMUSCULAR, INTRAVENOUS, SUBCUTANEOUS',\n",
        " 'INTRAVENOUS, INTRAMUSCULAR, SUBCUTANEOUS, INTRACARDIAC',\n",
        " 'INTRA-ARTICULAR, INTRAMUSCULAR',\n",
        " 'INTRA-ARTICULAR, INTRALESIONAL',\n",
        " 'INTRACAVERNOUS','INTRAVENOUS, INTRAVASCULAR',\n",
        " 'INTRAMUSCULAR, SUBCUTANEOUS',\n",
        " 'INTRATHECAL',\n",
        " 'INTRAVASCULAR',\n",
        " 'INTRAVENOUS, INTRAMUSCULAR, PARENTERAL',\n",
        " 'INTRAVENOUS, SUBCUTANEOUS, INTRAMUSCULAR',\n",
        " 'INTRA-ARTERIAL, INTRAVENOUS',\n",
        " 'INTRACAMERAL',\n",
        " 'EPIDURAL, INTRAVENOUS',\n",
        " 'INTRACAVITARY',\n",
        " 'EPIDURAL, INFILTRATION, PERINEURAL',\n",
        " 'INTRAVENOUS, INTRAMUSCULAR, INTRAPLEURAL, INTRATHECAL',\n",
        " 'EPIDURAL, INTRATHECAL, INTRAVENOUS',\n",
        " 'INTRAVENOUS, PARENTERAL',\n",
        " 'INFILTRATION, PERINEURAL',\n",
        " 'INTRAMUSCULAR, INTRAVENOUS, SUBCONJUNCTIVAL',\n",
        " 'EPIDURAL, INFILTRATION, INTRACAUDAL, PERINEURAL',\n",
        " 'EPIDURAL',\n",
        " 'SUBMUCOSAL',\n",
        " 'ORAL, TRANSMUCOSAL',\n",
        " 'ORAL, INTRAVENOUS',\n",
        " 'OPHTHALMIC, INTRAOCULAR',\n",
        " 'INTRATHECAL, INTRAVASCULAR, INTRAVENOUS, ORAL',\n",
        " 'INTRAMUSCULAR, INTRAVENOUS, RECTAL']\n",
        "\n",
        "topical_routes=['OPHTHALMIC',\n",
        "    'NASAL',\n",
        "    'AURICULAR (OTIC)',\n",
        "    'TRANSDERMAL',\n",
        "    'IRRIGATION',\n",
        "    'OPHTHALMIC, TOPICAL',\n",
        "    'OPHTHALMIC, INTRACANALICULAR',\n",
        "    'CUTANEOUS',\n",
        "    'DENTAL',\n",
        "    'TOPICAL, OPHTHALMIC',\n",
        "    'INTRAOCULAR, OPHTHALMIC',\n",
        "    'ORAL, SUBCUTANEOUS']\n",
        "\n",
        "urogenital_routes=['VAGINAL','URETERAL','INTRAUTERINE','URETHRAL','INTRAVESICAL']\n",
        "\n",
        "oral_routes= ['SUBLINGUAL', 'BUCCAL','ORAL, ORAL','BUCCAL, SUBLINGUAL','ORAL, RECTAL','ORAL, TOPICAL']\n",
        "\n",
        "inhalation_routes=['RESPIRATORY (INHALATION), ORAL','ORAL, RESPIRATORY (INHALATION)','INTRAVENOUS, RESPIRATORY (INHALATION)']"
      ]
    },
    {
      "cell_type": "code",
      "execution_count": null,
      "metadata": {
        "id": "MJBbu8D3_K95"
      },
      "outputs": [],
      "source": [
        "data=adv_final_clean.copy()"
      ]
    },
    {
      "cell_type": "code",
      "execution_count": null,
      "metadata": {
        "id": "ebi820Sh_K96"
      },
      "outputs": [],
      "source": [
        "data['Routes of Administration']=data['Routes of Administration'].replace(parenteral_routes, 'PARENTERAL')\n",
        "data['Routes of Administration']=data['Routes of Administration'].replace(topical_routes, 'TOPICAL')\n",
        "data['Routes of Administration']=data['Routes of Administration'].replace(urogenital_routes, 'UROGENITAL')\n",
        "data['Routes of Administration']=data['Routes of Administration'].replace(oral_routes, 'ORAL')\n",
        "data['Routes of Administration']=data['Routes of Administration'].replace(inhalation_routes, 'RESPIRATORY (INHALATION)')"
      ]
    },
    {
      "cell_type": "markdown",
      "metadata": {
        "id": "SmiSzk5G_K96"
      },
      "source": [
        "## 4.4 Data types"
      ]
    },
    {
      "cell_type": "code",
      "execution_count": null,
      "metadata": {
        "id": "p728nVHP_K96"
      },
      "outputs": [],
      "source": [
        "cols=['charge', 'count','defined_stereo', 'ez_centers', 'molecular_weight','stereo_centers','risk score']\n",
        "converted_cols = [pd.to_numeric(data[col], errors='coerce',downcast='float') for col in cols]\n",
        "data[cols] = pd.concat(converted_cols, axis=1)"
      ]
    },
    {
      "cell_type": "code",
      "execution_count": null,
      "metadata": {
        "id": "LYAL8xFw_K96",
        "outputId": "1d4af3c2-f818-4c85-c31f-7f6ace781113"
      },
      "outputs": [
        {
          "name": "stdout",
          "output_type": "stream",
          "text": [
            "<class 'pandas.core.frame.DataFrame'>\n",
            "Index: 8859085 entries, 14 to 9224478\n",
            "Data columns (total 14 columns):\n",
            " #   Column                               Non-Null Count    Dtype  \n",
            "---  ------                               --------------    -----  \n",
            " 0   UNII Codes for Inactive Ingredients  8859085 non-null  object \n",
            " 1   UNII Codes for Active Ingredients    8859085 non-null  object \n",
            " 2   Routes of Administration             8859085 non-null  object \n",
            " 3   Product Types                        8859085 non-null  object \n",
            " 4   charge                               8859085 non-null  float32\n",
            " 5   count                                8859085 non-null  float32\n",
            " 6   stereochemistry                      8859085 non-null  object \n",
            " 7   defined_stereo                       8859085 non-null  float32\n",
            " 8   ez_centers                           8859085 non-null  float32\n",
            " 9   molecular_weight                     8859085 non-null  float32\n",
            " 10  optical_activity                     8859085 non-null  object \n",
            " 11  stereo_centers                       8859085 non-null  float32\n",
            " 12  patientsex                           8859085 non-null  object \n",
            " 13  risk score                           8859085 non-null  float32\n",
            "dtypes: float32(7), object(7)\n",
            "memory usage: 777.3+ MB\n"
          ]
        }
      ],
      "source": [
        "data.info(verbose=True, show_counts=True)"
      ]
    },
    {
      "cell_type": "code",
      "execution_count": null,
      "metadata": {
        "id": "fGHpikvr_K97",
        "outputId": "691f5dc2-d410-4c9c-bc0c-104f5b2ef26a"
      },
      "outputs": [
        {
          "data": {
            "image/png": "[encoded data removed]",
            "text/plain": [
              "<Figure size 1200x800 with 9 Axes>"
            ]
          },
          "metadata": {},
          "output_type": "display_data"
        }
      ],
      "source": [
        "data_num = data.select_dtypes(include=[np.number])\n",
        "data_num.hist(bins=50, figsize=(12, 8))\n",
        "plt.show()"
      ]
    },
    {
      "cell_type": "code",
      "execution_count": null,
      "metadata": {
        "id": "rdpIFj63_K97"
      },
      "outputs": [],
      "source": [
        "# data.to_csv('final_dataset_human_parenteral.csv')"
      ]
    }
  ],
  "metadata": {
    "kernelspec": {
      "display_name": "Python 3",
      "language": "python",
      "name": "python3"
    },
    "language_info": {
      "codemirror_mode": {
        "name": "ipython",
        "version": 3
      },
      "file_extension": ".py",
      "mimetype": "text/x-python",
      "name": "python",
      "nbconvert_exporter": "python",
      "pygments_lexer": "ipython3",
      "version": "3.12.2"
    },
    "colab": {
      "provenance": [],
      "toc_visible": true,
      "include_colab_link": true
    }
  },
  "nbformat": 4,
  "nbformat_minor": 0
}